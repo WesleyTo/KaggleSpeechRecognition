{
 "cells": [
  {
   "cell_type": "code",
   "execution_count": 1,
   "metadata": {},
   "outputs": [],
   "source": [
    "import os\n",
    "from pathlib import Path\n",
    "import IPython.display as ipd\n",
    "\n",
    "import numpy as np # linear algebra\n",
    "import pandas as pd # data processing, CSV file I/O (e.g. pd.read_csv)\n",
    "import matplotlib.pyplot as plt\n",
    "from scipy import signal\n",
    "from scipy.io import wavfile\n",
    "import plotly.graph_objs as go\n",
    "import plotly.offline as py\n",
    "from IPython import display\n",
    "import time\n",
    "from datetime import datetime\n",
    "import tensorflow as tf\n",
    "import seaborn as sns\n",
    "import tensorflow_hub as hub\n",
    "import subprocess\n",
    "from subprocess import check_output\n",
    "%matplotlib inline\n",
    "\n",
    "tf.logging.set_verbosity(tf.logging.ERROR)\n",
    "\n",
    "# NOTES\n",
    "NOTES = \"mobilenetv2-128\"\n",
    "\n",
    "# VARS\n",
    "target_label = \"label\"\n",
    "image_key = \"imagestring\"\n",
    "id_label = \"fname\"\n",
    "OUTSTR = \"A{:.4f}_Type{}_LR{}_S{}_B{}{}.csv\"\n",
    "VERBOSE = True\n",
    "DISPLAY = True # set to False if running as a regular .py script\n",
    "TEST = True\n",
    "TPU = False\n",
    "TARGET_WIDTH = 128\n",
    "TARGET_HEIGHT = 128\n",
    "CHANNELS = 3\n",
    "TYPE = \"TL_TPU\"\n",
    "DEFAULT_BS = 128 # default batch size\n",
    "MODULE = \"https://tfhub.dev/google/imagenet/mobilenet_v2_035_128/classification/2\"\n",
    "NUM_SHARDS = 64\n",
    "\n",
    "if TEST:\n",
    "    LEARNING_STEPS = 100\n",
    "    SPP = 50\n",
    "    LEARNING_RATE = 0.005\n",
    "    BATCH_SIZE = 64\n",
    "    VERBOSITY = 1000\n",
    "    SHUFFLE_SIZE = 64\n",
    "    TEST_SIZE = 1000\n",
    "else:\n",
    "    LEARNING_STEPS = 20000\n",
    "    SPP = 1000\n",
    "    LEARNING_RATE = 0.0025\n",
    "    BATCH_SIZE = 64\n",
    "    VERBOSITY = 1000\n",
    "    SHUFFLE_SIZE = 64\n",
    "\n",
    "LOCALROOT = os.getcwd() + \"/\"\n",
    "GCROOT = \"gs://ml-piscine/speech/\"\n",
    "\n",
    "ds_str = datetime.strftime(datetime.now(), \"%b_%d_%Y_%H_%M_%S\")\n",
    "\n",
    "# PATHS\n",
    "paths = {\n",
    "    \"Training\": GCROOT + \"train/\",\n",
    "    \"Validation\": GCROOT + \"validation/\",\n",
    "    \"Testing\": GCROOT + \"test/\",\n",
    "    \"Labels\": GCROOT + \"train/labels.txt\",\n",
    "    \"Model\": GCROOT + \"model_dir/\",\n",
    "    \"LocalLogs\": LOCALROOT + \"logs/{}/\".format(ds_str),\n",
    "    \"GCLogs\": GCROOT + \"logs/{}/\".format(ds_str)\n",
    "}\n",
    "\n",
    "if not os.path.isdir(paths[\"LocalLogs\"]):\n",
    "    os.mkdir(paths[\"LocalLogs\"])\n",
    "    \n",
    "try:\n",
    "    os.environ[\"TPU_NAME\"]\n",
    "except:\n",
    "    os.environ[\"TPU_NAME\"] = \"\""
   ]
  },
  {
   "cell_type": "code",
   "execution_count": 2,
   "metadata": {
    "collapsed": true
   },
   "outputs": [],
   "source": [
    "class FLAGS(object):\n",
    "    use_tpu = TPU\n",
    "    tpu_name = os.environ[\"TPU_NAME\"]\n",
    "    model_dir = paths[\"Model\"]\n",
    "    iterations = SPP\n",
    "    num_shards = NUM_SHARDS"
   ]
  },
  {
   "cell_type": "code",
   "execution_count": 3,
   "metadata": {
    "collapsed": true
   },
   "outputs": [],
   "source": [
    "def sec_to_str(secs):\n",
    "    ms = secs - int(secs)\n",
    "    days = int(secs // (24 * 3600))\n",
    "    hours = int((secs % ((24 * 3600))) // 3600)\n",
    "    minutes = int((secs % 3600) // 60)\n",
    "    seconds = int(secs % 60)\n",
    "    return \"{:02}:{:02}:{:02}:{:02}.{}\".format(days, hours, minutes, seconds, \"{:.3}\".format(ms)[2:])\n",
    "\n",
    "def timer(f, *args):\n",
    "    print(\"Start: {}\".format(datetime.now()))\n",
    "    start = time.time()\n",
    "    result = f(*args)\n",
    "    end = time.time()\n",
    "    print(\"End: {}\".format(datetime.now()))\n",
    "    print(\"Finished in {}\".format(sec_to_str(end - start)))\n",
    "    return result\n",
    "\n",
    "def send_to_bucket(path_to_file, path_to_bucket):\n",
    "    command = [\"gsutil\", \"cp\", \"-r\", path_to_file, path_to_bucket]\n",
    "    subprocess.run(command)"
   ]
  },
  {
   "cell_type": "code",
   "execution_count": 4,
   "metadata": {
    "collapsed": true
   },
   "outputs": [],
   "source": [
    "def parse_label(tsr, sess):\n",
    "    return sess.run(tsr)\n",
    "\n",
    "def make_dataframe_from_tfrecords(records):\n",
    "    IMAGES, LABELS = [], []\n",
    "    count = 0\n",
    "    for record in records:\n",
    "        for file in tf.python_io.tf_record_iterator(record):\n",
    "            count += 1\n",
    "            if count % VERBOSITY == 0:\n",
    "                print(\"\\tRead in {}th record\".format(count))\n",
    "            features = (\n",
    "                tf.parse_single_example(\n",
    "                    file,\n",
    "                    features={\n",
    "                        'image/encoded': tf.FixedLenFeature([], tf.string),\n",
    "                        'image/class/label': tf.FixedLenFeature([], tf.int64),\n",
    "                        'image/filename': tf.FixedLenFeature([], tf.string)\n",
    "                    }\n",
    "                )\n",
    "            )\n",
    "            label = tf.cast(features['image/class/label'], tf.int32)\n",
    "            image = tf.image.decode_png(features['image/encoded'], channels=3)\n",
    "            image = tf.image.convert_image_dtype(image, tf.float32)\n",
    "            image = tf.reshape(image, [128, 128, 3])         \n",
    "            IMAGES.append(image)\n",
    "            LABELS.append(label)\n",
    "    df = pd.DataFrame({target_label:LABELS, image_key:IMAGES})\n",
    "    return df\n"
   ]
  },
  {
   "cell_type": "code",
   "execution_count": 5,
   "metadata": {
    "collapsed": true
   },
   "outputs": [],
   "source": [
    "count = 0\n",
    "def _parse_function(file):\n",
    "    global count\n",
    "    count += 1\n",
    "    if count % VERBOSITY == 0:\n",
    "        print(\"\\tProcessed {}th image\".format(count))\n",
    "    expected_shape = tf.constant([TARGET_HEIGHT, TARGET_WIDTH, CHANNELS])\n",
    "    features = (\n",
    "        tf.parse_single_example(\n",
    "            file,\n",
    "            features={\n",
    "                'image/encoded': tf.FixedLenFeature([], tf.string),\n",
    "                'image/class/label': tf.FixedLenFeature([], tf.int64)\n",
    "            }\n",
    "        )\n",
    "    )\n",
    "    label = tf.cast(features['image/class/label'], tf.int32)\n",
    "    image = tf.image.decode_png(features['image/encoded'], channels=3)\n",
    "    image = tf.image.convert_image_dtype(image, tf.float32)\n",
    "    image = tf.reshape(image, expected_shape) \n",
    "    \n",
    "    return image, label"
   ]
  },
  {
   "cell_type": "code",
   "execution_count": 6,
   "metadata": {
    "collapsed": true
   },
   "outputs": [],
   "source": [
    "def mobilenet_model_fn(features, labels, mode):\n",
    "    # Load mobilenet-v2 model.\n",
    "    global num_label\n",
    "    module = hub.Module(MODULE)\n",
    "    features = tf.squeeze(features)\n",
    "    outputs = module(features)\n",
    "\n",
    "    logits = tf.layers.dense(inputs=outputs, units=num_labels)\n",
    "\n",
    "    predictions = {\n",
    "        \"classes\": tf.argmax(input=logits, axis=1),\n",
    "        \"probabilities\": tf.nn.softmax(logits, name=\"softmax_tensor\")\n",
    "    }\n",
    "    if not FLAGS.use_tpu:\n",
    "        tf.summary.histogram(\"predictions\", predictions[\"probabilities\"])\n",
    "        tf.summary.histogram(\"classes\", predictions[\"classes\"])\n",
    "\n",
    "    if mode == tf.estimator.ModeKeys.PREDICT:\n",
    "        return tf.estimator.EstimatorSpec(mode=mode, predictions=predictions)\n",
    "\n",
    "    # Calculate Loss (for both TRAIN and EVAL modes)\n",
    "    loss = tf.losses.sparse_softmax_cross_entropy(labels=labels, logits=logits)\n",
    "    predictions[\"loss\"] = loss\n",
    "\n",
    "    # Configure the Training Op (for TRAIN mode)\n",
    "    if mode == tf.estimator.ModeKeys.TRAIN:\n",
    "        optimizer = tf.train.GradientDescentOptimizer(learning_rate=LEARNING_RATE)\n",
    "        if FLAGS.use_tpu:\n",
    "            optimizer = tf.contrib.tpu.CrossShardOptimizer(optimizer)\n",
    "        train_op = optimizer.minimize(\n",
    "            loss=loss,\n",
    "            global_step=tf.train.get_global_step())\n",
    "        return tf.estimator.EstimatorSpec(mode=mode, loss=loss, train_op=train_op)\n",
    "\n",
    "    # Add evaluation metrics (for EVAL mode)\n",
    "    eval_metric_ops = {\n",
    "        \"accuracy\": tf.metrics.accuracy(\n",
    "            labels=labels, predictions=predictions[\"classes\"])}\n",
    "    return tf.estimator.EstimatorSpec(\n",
    "        mode=mode, loss=loss, eval_metric_ops=eval_metric_ops)"
   ]
  },
  {
   "cell_type": "code",
   "execution_count": 7,
   "metadata": {
    "collapsed": true
   },
   "outputs": [],
   "source": [
    "def create_training_input_fn(dataset, batch_size, num_epochs=None):\n",
    "    def _input_fn(num_epochs=None, shuffle=True):\n",
    "        ds = dataset.map(_parse_function)\n",
    "        ds = ds.batch(batch_size).repeat(num_epochs)\n",
    "        if shuffle:\n",
    "            ds = ds.shuffle(SHUFFLE_SIZE)\n",
    "        feature_batch, label_batch = ds.make_one_shot_iterator().get_next()\n",
    "        return feature_batch, label_batch\n",
    "    return _input_fn\n",
    "\n",
    "def create_predict_input_fn(dataset, batch_size):\n",
    "    def _input_fn():\n",
    "        ds = dataset.map(_parse_function)\n",
    "        ds = ds.batch(batch_size)\n",
    "        feature_batch, label_batch = ds.make_one_shot_iterator().get_next()\n",
    "        return feature_batch, label_batch\n",
    "    return _input_fn\n",
    "\n",
    "def train():\n",
    "    periods = LEARNING_STEPS // SPP\n",
    "    steps_per_period = LEARNING_STEPS // periods\n",
    "    t_accs = []\n",
    "    v_accs = []\n",
    "    t_lls = []\n",
    "    v_lls = []\n",
    "    print(\"Training model...\\nMetrics:\")\n",
    "    print(\"\\tPERIOD\\tTYPE\\tTRAIN.\\tVALID.\")\n",
    "    for period in range(periods):\n",
    "        classifier.train(\n",
    "            input_fn=train_input_fn,\n",
    "            steps=steps_per_period)\n",
    "        training_stats = classifier.evaluate(input_fn=training_eval_input_fn)\n",
    "        validation_stats = classifier.evaluate(input_fn=validation_eval_input_fn)\n",
    "        t_ll = training_stats[\"loss\"]\n",
    "        t_acc = 100 * training_stats[\"accuracy\"]\n",
    "        v_ll = validation_stats[\"loss\"]\n",
    "        v_acc = 100 * validation_stats[\"accuracy\"]\n",
    "        print(\"\\t{}\\tLgLs\\t{:.2f}\\t{:.2f}\".format(period, t_ll, v_ll))\n",
    "        print(\"\\t\\tAcc.\\t{:.2f}%\\t{:.2f}%\\n\".format(t_acc, v_acc))\n",
    "        t_lls.append(t_ll);\n",
    "        v_lls.append(v_ll)\n",
    "        t_accs.append(t_acc)\n",
    "        v_accs.append(v_acc)\n",
    "    accuracy = classifier.evaluate(input_fn=validation_eval_input_fn)[\"accuracy\"] * 100\n",
    "    return classifier, accuracy, t_lls, v_lls, t_accs, v_accs"
   ]
  },
  {
   "cell_type": "code",
   "execution_count": 8,
   "metadata": {
    "collapsed": true
   },
   "outputs": [],
   "source": [
    "if FLAGS.use_tpu:\n",
    "    my_project_name = subprocess.check_output(['gcloud','config','get-value','project'])\n",
    "    my_zone = subprocess.check_output(['gcloud','config','get-value','compute/zone'])\n",
    "    cluster_resolver = tf.contrib.cluster_resolver.TPUClusterResolver(\n",
    "            tpu_names=[FLAGS.tpu_name],\n",
    "            zone=my_zone,\n",
    "            project=my_project)\n",
    "    master = tpu_cluster_resolver.get_master()\n",
    "else:\n",
    "    master = ''"
   ]
  },
  {
   "cell_type": "code",
   "execution_count": 9,
   "metadata": {
    "collapsed": true
   },
   "outputs": [],
   "source": [
    "# Read in TFRecords\n",
    "train_records = [\"speech_train_{:05}-of-{:05}.tfrecord\".format(i, FLAGS.num_shards) for i in range(FLAGS.num_shards)]\n",
    "train_records = list(map(lambda x: paths[\"Training\"] + x, train_records))\n",
    "validation_records = [\"speech_validation_{:05}-of-{:05}.tfrecord\".format(i, FLAGS.num_shards) for i in range(FLAGS.num_shards)]\n",
    "validation_records = list(map(lambda x: paths[\"Validation\"] + x, validation_records))\n",
    "test_records = [\"test_{:05}-of-{:05}.tfrecord\".format(i, FLAGS.num_shards) for i in range(FLAGS.num_shards)]\n",
    "test_records = list(map(lambda x: paths[\"Testing\"] + x, test_records))"
   ]
  },
  {
   "cell_type": "code",
   "execution_count": 10,
   "metadata": {},
   "outputs": [
    {
     "name": "stdout",
     "output_type": "stream",
     "text": [
      "Training Records:\n",
      "\t gs://ml-piscine/speech/train/speech_train_00000-of-00064.tfrecord\n",
      "\t gs://ml-piscine/speech/train/speech_train_00001-of-00064.tfrecord\n",
      "\t gs://ml-piscine/speech/train/speech_train_00002-of-00064.tfrecord\n",
      "\t gs://ml-piscine/speech/train/speech_train_00003-of-00064.tfrecord\n",
      "\t gs://ml-piscine/speech/train/speech_train_00004-of-00064.tfrecord\n",
      "\t gs://ml-piscine/speech/train/speech_train_00005-of-00064.tfrecord\n",
      "\t gs://ml-piscine/speech/train/speech_train_00006-of-00064.tfrecord\n",
      "\t gs://ml-piscine/speech/train/speech_train_00007-of-00064.tfrecord\n",
      "\t gs://ml-piscine/speech/train/speech_train_00008-of-00064.tfrecord\n",
      "\t gs://ml-piscine/speech/train/speech_train_00009-of-00064.tfrecord\n",
      "\t gs://ml-piscine/speech/train/speech_train_00010-of-00064.tfrecord\n",
      "\t gs://ml-piscine/speech/train/speech_train_00011-of-00064.tfrecord\n",
      "\t gs://ml-piscine/speech/train/speech_train_00012-of-00064.tfrecord\n",
      "\t gs://ml-piscine/speech/train/speech_train_00013-of-00064.tfrecord\n",
      "\t gs://ml-piscine/speech/train/speech_train_00014-of-00064.tfrecord\n",
      "\t gs://ml-piscine/speech/train/speech_train_00015-of-00064.tfrecord\n",
      "\t gs://ml-piscine/speech/train/speech_train_00016-of-00064.tfrecord\n",
      "\t gs://ml-piscine/speech/train/speech_train_00017-of-00064.tfrecord\n",
      "\t gs://ml-piscine/speech/train/speech_train_00018-of-00064.tfrecord\n",
      "\t gs://ml-piscine/speech/train/speech_train_00019-of-00064.tfrecord\n",
      "\t gs://ml-piscine/speech/train/speech_train_00020-of-00064.tfrecord\n",
      "\t gs://ml-piscine/speech/train/speech_train_00021-of-00064.tfrecord\n",
      "\t gs://ml-piscine/speech/train/speech_train_00022-of-00064.tfrecord\n",
      "\t gs://ml-piscine/speech/train/speech_train_00023-of-00064.tfrecord\n",
      "\t gs://ml-piscine/speech/train/speech_train_00024-of-00064.tfrecord\n",
      "\t gs://ml-piscine/speech/train/speech_train_00025-of-00064.tfrecord\n",
      "\t gs://ml-piscine/speech/train/speech_train_00026-of-00064.tfrecord\n",
      "\t gs://ml-piscine/speech/train/speech_train_00027-of-00064.tfrecord\n",
      "\t gs://ml-piscine/speech/train/speech_train_00028-of-00064.tfrecord\n",
      "\t gs://ml-piscine/speech/train/speech_train_00029-of-00064.tfrecord\n",
      "\t gs://ml-piscine/speech/train/speech_train_00030-of-00064.tfrecord\n",
      "\t gs://ml-piscine/speech/train/speech_train_00031-of-00064.tfrecord\n",
      "\t gs://ml-piscine/speech/train/speech_train_00032-of-00064.tfrecord\n",
      "\t gs://ml-piscine/speech/train/speech_train_00033-of-00064.tfrecord\n",
      "\t gs://ml-piscine/speech/train/speech_train_00034-of-00064.tfrecord\n",
      "\t gs://ml-piscine/speech/train/speech_train_00035-of-00064.tfrecord\n",
      "\t gs://ml-piscine/speech/train/speech_train_00036-of-00064.tfrecord\n",
      "\t gs://ml-piscine/speech/train/speech_train_00037-of-00064.tfrecord\n",
      "\t gs://ml-piscine/speech/train/speech_train_00038-of-00064.tfrecord\n",
      "\t gs://ml-piscine/speech/train/speech_train_00039-of-00064.tfrecord\n",
      "\t gs://ml-piscine/speech/train/speech_train_00040-of-00064.tfrecord\n",
      "\t gs://ml-piscine/speech/train/speech_train_00041-of-00064.tfrecord\n",
      "\t gs://ml-piscine/speech/train/speech_train_00042-of-00064.tfrecord\n",
      "\t gs://ml-piscine/speech/train/speech_train_00043-of-00064.tfrecord\n",
      "\t gs://ml-piscine/speech/train/speech_train_00044-of-00064.tfrecord\n",
      "\t gs://ml-piscine/speech/train/speech_train_00045-of-00064.tfrecord\n",
      "\t gs://ml-piscine/speech/train/speech_train_00046-of-00064.tfrecord\n",
      "\t gs://ml-piscine/speech/train/speech_train_00047-of-00064.tfrecord\n",
      "\t gs://ml-piscine/speech/train/speech_train_00048-of-00064.tfrecord\n",
      "\t gs://ml-piscine/speech/train/speech_train_00049-of-00064.tfrecord\n",
      "\t gs://ml-piscine/speech/train/speech_train_00050-of-00064.tfrecord\n",
      "\t gs://ml-piscine/speech/train/speech_train_00051-of-00064.tfrecord\n",
      "\t gs://ml-piscine/speech/train/speech_train_00052-of-00064.tfrecord\n",
      "\t gs://ml-piscine/speech/train/speech_train_00053-of-00064.tfrecord\n",
      "\t gs://ml-piscine/speech/train/speech_train_00054-of-00064.tfrecord\n",
      "\t gs://ml-piscine/speech/train/speech_train_00055-of-00064.tfrecord\n",
      "\t gs://ml-piscine/speech/train/speech_train_00056-of-00064.tfrecord\n",
      "\t gs://ml-piscine/speech/train/speech_train_00057-of-00064.tfrecord\n",
      "\t gs://ml-piscine/speech/train/speech_train_00058-of-00064.tfrecord\n",
      "\t gs://ml-piscine/speech/train/speech_train_00059-of-00064.tfrecord\n",
      "\t gs://ml-piscine/speech/train/speech_train_00060-of-00064.tfrecord\n",
      "\t gs://ml-piscine/speech/train/speech_train_00061-of-00064.tfrecord\n",
      "\t gs://ml-piscine/speech/train/speech_train_00062-of-00064.tfrecord\n",
      "\t gs://ml-piscine/speech/train/speech_train_00063-of-00064.tfrecord\n"
     ]
    }
   ],
   "source": [
    "if VERBOSE:\n",
    "    print(\"Training Records:\")\n",
    "    _ = [print(\"\\t\", record) for record in train_records]"
   ]
  },
  {
   "cell_type": "code",
   "execution_count": 11,
   "metadata": {},
   "outputs": [
    {
     "name": "stdout",
     "output_type": "stream",
     "text": [
      "Validation Records:\n",
      "\t gs://ml-piscine/speech/validation/speech_validation_00000-of-00064.tfrecord\n",
      "\t gs://ml-piscine/speech/validation/speech_validation_00001-of-00064.tfrecord\n",
      "\t gs://ml-piscine/speech/validation/speech_validation_00002-of-00064.tfrecord\n",
      "\t gs://ml-piscine/speech/validation/speech_validation_00003-of-00064.tfrecord\n",
      "\t gs://ml-piscine/speech/validation/speech_validation_00004-of-00064.tfrecord\n",
      "\t gs://ml-piscine/speech/validation/speech_validation_00005-of-00064.tfrecord\n",
      "\t gs://ml-piscine/speech/validation/speech_validation_00006-of-00064.tfrecord\n",
      "\t gs://ml-piscine/speech/validation/speech_validation_00007-of-00064.tfrecord\n",
      "\t gs://ml-piscine/speech/validation/speech_validation_00008-of-00064.tfrecord\n",
      "\t gs://ml-piscine/speech/validation/speech_validation_00009-of-00064.tfrecord\n",
      "\t gs://ml-piscine/speech/validation/speech_validation_00010-of-00064.tfrecord\n",
      "\t gs://ml-piscine/speech/validation/speech_validation_00011-of-00064.tfrecord\n",
      "\t gs://ml-piscine/speech/validation/speech_validation_00012-of-00064.tfrecord\n",
      "\t gs://ml-piscine/speech/validation/speech_validation_00013-of-00064.tfrecord\n",
      "\t gs://ml-piscine/speech/validation/speech_validation_00014-of-00064.tfrecord\n",
      "\t gs://ml-piscine/speech/validation/speech_validation_00015-of-00064.tfrecord\n",
      "\t gs://ml-piscine/speech/validation/speech_validation_00016-of-00064.tfrecord\n",
      "\t gs://ml-piscine/speech/validation/speech_validation_00017-of-00064.tfrecord\n",
      "\t gs://ml-piscine/speech/validation/speech_validation_00018-of-00064.tfrecord\n",
      "\t gs://ml-piscine/speech/validation/speech_validation_00019-of-00064.tfrecord\n",
      "\t gs://ml-piscine/speech/validation/speech_validation_00020-of-00064.tfrecord\n",
      "\t gs://ml-piscine/speech/validation/speech_validation_00021-of-00064.tfrecord\n",
      "\t gs://ml-piscine/speech/validation/speech_validation_00022-of-00064.tfrecord\n",
      "\t gs://ml-piscine/speech/validation/speech_validation_00023-of-00064.tfrecord\n",
      "\t gs://ml-piscine/speech/validation/speech_validation_00024-of-00064.tfrecord\n",
      "\t gs://ml-piscine/speech/validation/speech_validation_00025-of-00064.tfrecord\n",
      "\t gs://ml-piscine/speech/validation/speech_validation_00026-of-00064.tfrecord\n",
      "\t gs://ml-piscine/speech/validation/speech_validation_00027-of-00064.tfrecord\n",
      "\t gs://ml-piscine/speech/validation/speech_validation_00028-of-00064.tfrecord\n",
      "\t gs://ml-piscine/speech/validation/speech_validation_00029-of-00064.tfrecord\n",
      "\t gs://ml-piscine/speech/validation/speech_validation_00030-of-00064.tfrecord\n",
      "\t gs://ml-piscine/speech/validation/speech_validation_00031-of-00064.tfrecord\n",
      "\t gs://ml-piscine/speech/validation/speech_validation_00032-of-00064.tfrecord\n",
      "\t gs://ml-piscine/speech/validation/speech_validation_00033-of-00064.tfrecord\n",
      "\t gs://ml-piscine/speech/validation/speech_validation_00034-of-00064.tfrecord\n",
      "\t gs://ml-piscine/speech/validation/speech_validation_00035-of-00064.tfrecord\n",
      "\t gs://ml-piscine/speech/validation/speech_validation_00036-of-00064.tfrecord\n",
      "\t gs://ml-piscine/speech/validation/speech_validation_00037-of-00064.tfrecord\n",
      "\t gs://ml-piscine/speech/validation/speech_validation_00038-of-00064.tfrecord\n",
      "\t gs://ml-piscine/speech/validation/speech_validation_00039-of-00064.tfrecord\n",
      "\t gs://ml-piscine/speech/validation/speech_validation_00040-of-00064.tfrecord\n",
      "\t gs://ml-piscine/speech/validation/speech_validation_00041-of-00064.tfrecord\n",
      "\t gs://ml-piscine/speech/validation/speech_validation_00042-of-00064.tfrecord\n",
      "\t gs://ml-piscine/speech/validation/speech_validation_00043-of-00064.tfrecord\n",
      "\t gs://ml-piscine/speech/validation/speech_validation_00044-of-00064.tfrecord\n",
      "\t gs://ml-piscine/speech/validation/speech_validation_00045-of-00064.tfrecord\n",
      "\t gs://ml-piscine/speech/validation/speech_validation_00046-of-00064.tfrecord\n",
      "\t gs://ml-piscine/speech/validation/speech_validation_00047-of-00064.tfrecord\n",
      "\t gs://ml-piscine/speech/validation/speech_validation_00048-of-00064.tfrecord\n",
      "\t gs://ml-piscine/speech/validation/speech_validation_00049-of-00064.tfrecord\n",
      "\t gs://ml-piscine/speech/validation/speech_validation_00050-of-00064.tfrecord\n",
      "\t gs://ml-piscine/speech/validation/speech_validation_00051-of-00064.tfrecord\n",
      "\t gs://ml-piscine/speech/validation/speech_validation_00052-of-00064.tfrecord\n",
      "\t gs://ml-piscine/speech/validation/speech_validation_00053-of-00064.tfrecord\n",
      "\t gs://ml-piscine/speech/validation/speech_validation_00054-of-00064.tfrecord\n",
      "\t gs://ml-piscine/speech/validation/speech_validation_00055-of-00064.tfrecord\n",
      "\t gs://ml-piscine/speech/validation/speech_validation_00056-of-00064.tfrecord\n",
      "\t gs://ml-piscine/speech/validation/speech_validation_00057-of-00064.tfrecord\n",
      "\t gs://ml-piscine/speech/validation/speech_validation_00058-of-00064.tfrecord\n",
      "\t gs://ml-piscine/speech/validation/speech_validation_00059-of-00064.tfrecord\n",
      "\t gs://ml-piscine/speech/validation/speech_validation_00060-of-00064.tfrecord\n",
      "\t gs://ml-piscine/speech/validation/speech_validation_00061-of-00064.tfrecord\n",
      "\t gs://ml-piscine/speech/validation/speech_validation_00062-of-00064.tfrecord\n",
      "\t gs://ml-piscine/speech/validation/speech_validation_00063-of-00064.tfrecord\n"
     ]
    }
   ],
   "source": [
    "if VERBOSE:\n",
    "    print(\"Validation Records:\")\n",
    "    _ = [print(\"\\t\", record) for record in validation_records]"
   ]
  },
  {
   "cell_type": "code",
   "execution_count": 12,
   "metadata": {},
   "outputs": [
    {
     "name": "stdout",
     "output_type": "stream",
     "text": [
      "Testing Records:\n",
      "\t gs://ml-piscine/speech/test/test_00000-of-00064.tfrecord\n",
      "\t gs://ml-piscine/speech/test/test_00001-of-00064.tfrecord\n",
      "\t gs://ml-piscine/speech/test/test_00002-of-00064.tfrecord\n",
      "\t gs://ml-piscine/speech/test/test_00003-of-00064.tfrecord\n",
      "\t gs://ml-piscine/speech/test/test_00004-of-00064.tfrecord\n",
      "\t gs://ml-piscine/speech/test/test_00005-of-00064.tfrecord\n",
      "\t gs://ml-piscine/speech/test/test_00006-of-00064.tfrecord\n",
      "\t gs://ml-piscine/speech/test/test_00007-of-00064.tfrecord\n",
      "\t gs://ml-piscine/speech/test/test_00008-of-00064.tfrecord\n",
      "\t gs://ml-piscine/speech/test/test_00009-of-00064.tfrecord\n",
      "\t gs://ml-piscine/speech/test/test_00010-of-00064.tfrecord\n",
      "\t gs://ml-piscine/speech/test/test_00011-of-00064.tfrecord\n",
      "\t gs://ml-piscine/speech/test/test_00012-of-00064.tfrecord\n",
      "\t gs://ml-piscine/speech/test/test_00013-of-00064.tfrecord\n",
      "\t gs://ml-piscine/speech/test/test_00014-of-00064.tfrecord\n",
      "\t gs://ml-piscine/speech/test/test_00015-of-00064.tfrecord\n",
      "\t gs://ml-piscine/speech/test/test_00016-of-00064.tfrecord\n",
      "\t gs://ml-piscine/speech/test/test_00017-of-00064.tfrecord\n",
      "\t gs://ml-piscine/speech/test/test_00018-of-00064.tfrecord\n",
      "\t gs://ml-piscine/speech/test/test_00019-of-00064.tfrecord\n",
      "\t gs://ml-piscine/speech/test/test_00020-of-00064.tfrecord\n",
      "\t gs://ml-piscine/speech/test/test_00021-of-00064.tfrecord\n",
      "\t gs://ml-piscine/speech/test/test_00022-of-00064.tfrecord\n",
      "\t gs://ml-piscine/speech/test/test_00023-of-00064.tfrecord\n",
      "\t gs://ml-piscine/speech/test/test_00024-of-00064.tfrecord\n",
      "\t gs://ml-piscine/speech/test/test_00025-of-00064.tfrecord\n",
      "\t gs://ml-piscine/speech/test/test_00026-of-00064.tfrecord\n",
      "\t gs://ml-piscine/speech/test/test_00027-of-00064.tfrecord\n",
      "\t gs://ml-piscine/speech/test/test_00028-of-00064.tfrecord\n",
      "\t gs://ml-piscine/speech/test/test_00029-of-00064.tfrecord\n",
      "\t gs://ml-piscine/speech/test/test_00030-of-00064.tfrecord\n",
      "\t gs://ml-piscine/speech/test/test_00031-of-00064.tfrecord\n",
      "\t gs://ml-piscine/speech/test/test_00032-of-00064.tfrecord\n",
      "\t gs://ml-piscine/speech/test/test_00033-of-00064.tfrecord\n",
      "\t gs://ml-piscine/speech/test/test_00034-of-00064.tfrecord\n",
      "\t gs://ml-piscine/speech/test/test_00035-of-00064.tfrecord\n",
      "\t gs://ml-piscine/speech/test/test_00036-of-00064.tfrecord\n",
      "\t gs://ml-piscine/speech/test/test_00037-of-00064.tfrecord\n",
      "\t gs://ml-piscine/speech/test/test_00038-of-00064.tfrecord\n",
      "\t gs://ml-piscine/speech/test/test_00039-of-00064.tfrecord\n",
      "\t gs://ml-piscine/speech/test/test_00040-of-00064.tfrecord\n",
      "\t gs://ml-piscine/speech/test/test_00041-of-00064.tfrecord\n",
      "\t gs://ml-piscine/speech/test/test_00042-of-00064.tfrecord\n",
      "\t gs://ml-piscine/speech/test/test_00043-of-00064.tfrecord\n",
      "\t gs://ml-piscine/speech/test/test_00044-of-00064.tfrecord\n",
      "\t gs://ml-piscine/speech/test/test_00045-of-00064.tfrecord\n",
      "\t gs://ml-piscine/speech/test/test_00046-of-00064.tfrecord\n",
      "\t gs://ml-piscine/speech/test/test_00047-of-00064.tfrecord\n",
      "\t gs://ml-piscine/speech/test/test_00048-of-00064.tfrecord\n",
      "\t gs://ml-piscine/speech/test/test_00049-of-00064.tfrecord\n",
      "\t gs://ml-piscine/speech/test/test_00050-of-00064.tfrecord\n",
      "\t gs://ml-piscine/speech/test/test_00051-of-00064.tfrecord\n",
      "\t gs://ml-piscine/speech/test/test_00052-of-00064.tfrecord\n",
      "\t gs://ml-piscine/speech/test/test_00053-of-00064.tfrecord\n",
      "\t gs://ml-piscine/speech/test/test_00054-of-00064.tfrecord\n",
      "\t gs://ml-piscine/speech/test/test_00055-of-00064.tfrecord\n",
      "\t gs://ml-piscine/speech/test/test_00056-of-00064.tfrecord\n",
      "\t gs://ml-piscine/speech/test/test_00057-of-00064.tfrecord\n",
      "\t gs://ml-piscine/speech/test/test_00058-of-00064.tfrecord\n",
      "\t gs://ml-piscine/speech/test/test_00059-of-00064.tfrecord\n",
      "\t gs://ml-piscine/speech/test/test_00060-of-00064.tfrecord\n",
      "\t gs://ml-piscine/speech/test/test_00061-of-00064.tfrecord\n",
      "\t gs://ml-piscine/speech/test/test_00062-of-00064.tfrecord\n",
      "\t gs://ml-piscine/speech/test/test_00063-of-00064.tfrecord\n"
     ]
    }
   ],
   "source": [
    "if VERBOSE:\n",
    "    print(\"Testing Records:\")\n",
    "    _ = [print(\"\\t\", record) for record in test_records]"
   ]
  },
  {
   "cell_type": "code",
   "execution_count": 28,
   "metadata": {},
   "outputs": [
    {
     "name": "stdout",
     "output_type": "stream",
     "text": [
      "{'bed': 0, 'no': 14, 'down': 4, 'one': 17, 'house': 10, 'silence': 21, 'right': 18, 'happy': 9, 'six': 22, 'three': 24, 'marvin': 12, 'off': 15, 'on': 16, 'two': 26, 'cat': 2, 'left': 11, 'yes': 29, 'dog': 3, 'eight': 5, 'wow': 28, 'bird': 1, 'four': 7, 'stop': 23, 'up': 27, 'seven': 19, 'go': 8, 'tree': 25, 'sheila': 20, 'nine': 13, 'zero': 30, 'five': 6} \n",
      "\n",
      "{0: 'bed', 1: 'bird', 2: 'cat', 3: 'dog', 4: 'down', 5: 'eight', 6: 'five', 7: 'four', 8: 'go', 9: 'happy', 10: 'house', 11: 'left', 12: 'marvin', 13: 'nine', 14: 'no', 15: 'off', 16: 'on', 17: 'one', 18: 'right', 19: 'seven', 20: 'sheila', 21: 'silence', 22: 'six', 23: 'stop', 24: 'three', 25: 'tree', 26: 'two', 27: 'up', 28: 'wow', 29: 'yes', 30: 'zero'}\n"
     ]
    }
   ],
   "source": [
    "# Read the labels mapping for the TFRecords into a dict for lookup\n",
    "command = [\"gsutil\", \"cp\", paths[\"Training\"] + \"labels.txt\", \"labels.txt\"]\n",
    "subprocess.run(command)\n",
    "path = \"labels.txt\"\n",
    "with open(path, 'r') as f:\n",
    "    labels = {pair[1].strip() : int(pair[0]) for pair in [line.split(\":\") for line in f.readlines()]}\n",
    "num_labels = len(labels)\n",
    "labels_ = {labels[k]:k for k in labels}\n",
    "print(labels, \"\\n\")\n",
    "print(labels_)"
   ]
  },
  {
   "cell_type": "code",
   "execution_count": 14,
   "metadata": {},
   "outputs": [
    {
     "name": "stdout",
     "output_type": "stream",
     "text": [
      "{0: 'unknown', 1: 'unknown', 2: 'unknown', 3: 'unknown', 4: 'down', 5: 'unknown', 6: 'unknown', 7: 'unknown', 8: 'go', 9: 'unknown', 10: 'unknown', 11: 'left', 12: 'unknown', 13: 'unknown', 14: 'no', 15: 'off', 16: 'on', 17: 'unknown', 18: 'right', 19: 'unknown', 20: 'unknown', 21: 'silence', 22: 'unknown', 23: 'stop', 24: 'unknown', 25: 'unknown', 26: 'unknown', 27: 'up', 28: 'unknown', 29: 'yes', 30: 'unknown'}\n"
     ]
    }
   ],
   "source": [
    "# Reverse the labels dictionary to re-map numbers to their original string labels \n",
    "# Place all the unwanted labels into an unknown category in the reverse lookup dict\n",
    "allowed_labels = [\"yes\", \"no\", \"up\", \"down\", \"left\", \"right\", \"on\", \"off\", \"stop\", \"go\", \"silence\"]\n",
    "reverse_lookup = {labels[label]:(\"unknown\" if label not in allowed_labels else label) for label in labels}        \n",
    "print(reverse_lookup)"
   ]
  },
  {
   "cell_type": "code",
   "execution_count": 15,
   "metadata": {},
   "outputs": [
    {
     "name": "stdout",
     "output_type": "stream",
     "text": [
      "Start: 2018-07-18 20:57:25.957621\n",
      "End: 2018-07-18 20:57:26.012267\n",
      "Finished in 00:00:00:00.0545\n",
      "IDS\n",
      "count                 158538\n",
      "unique                158538\n",
      "top       clip_54d3d0687.wav\n",
      "freq                       1\n",
      "dtype: object\n",
      "0    clip_acdd680e6.wav\n",
      "1    clip_7f3e8aadd.wav\n",
      "2    clip_d63745704.wav\n",
      "3    clip_3ee75e2ec.wav\n",
      "4    clip_a2e1a87ad.wav\n",
      "5    clip_b7f6cfdee.wav\n",
      "6    clip_521c0fe6c.wav\n",
      "7    clip_3526fb428.wav\n",
      "8    clip_002716f99.wav\n",
      "9    clip_b01a21a25.wav\n",
      "dtype: object\n"
     ]
    }
   ],
   "source": [
    "# Read in the test set filenames for later output\n",
    "labels = dict()\n",
    "command = [\"gsutil\", \"cp\", paths[\"Testing\"]+\"filenames.txt\", \"filenames.txt\"]\n",
    "subprocess.run(command)\n",
    "path = \"filenames.txt\"\n",
    "with open(path, 'r') as file:\n",
    "    f = lambda x: pd.Series([line.strip() for line in x.readlines()])\n",
    "    ids = timer(f, file)\n",
    "\n",
    "if VERBOSE:\n",
    "    print(\"IDS\")\n",
    "    print(ids.describe())\n",
    "    print(ids.head(10))"
   ]
  },
  {
   "cell_type": "code",
   "execution_count": 16,
   "metadata": {
    "collapsed": true
   },
   "outputs": [],
   "source": [
    "# Make datasets from tfrecords\n",
    "train_data = tf.data.TFRecordDataset((train_records))\n",
    "validation_data = tf.data.TFRecordDataset((validation_records))\n",
    "test_data = tf.data.TFRecordDataset((test_records))"
   ]
  },
  {
   "cell_type": "code",
   "execution_count": 17,
   "metadata": {},
   "outputs": [
    {
     "name": "stdout",
     "output_type": "stream",
     "text": [
      "TRAINING\n",
      "<TFRecordDataset shapes: (), types: tf.string>\n",
      "<class 'tensorflow.python.data.ops.readers.TFRecordDataset'>\n",
      "VALIDATION\n",
      "<TFRecordDataset shapes: (), types: tf.string>\n",
      "<class 'tensorflow.python.data.ops.readers.TFRecordDataset'>\n",
      "TESTING\n",
      "<TFRecordDataset shapes: (), types: tf.string>\n",
      "<class 'tensorflow.python.data.ops.readers.TFRecordDataset'>\n"
     ]
    }
   ],
   "source": [
    "print(\"TRAINING\")\n",
    "print(train_data)\n",
    "print(type(train_data))\n",
    "print(\"VALIDATION\")\n",
    "print(validation_data)\n",
    "print(type(validation_data))\n",
    "print(\"TESTING\")\n",
    "print(test_data)\n",
    "print(type(test_data))"
   ]
  },
  {
   "cell_type": "code",
   "execution_count": 18,
   "metadata": {},
   "outputs": [],
   "source": [
    "# Configure the TPU\n",
    "my_tpu_run_config = tf.contrib.tpu.RunConfig(\n",
    "    master=master,\n",
    "    evaluation_master=master,\n",
    "    model_dir=FLAGS.model_dir,\n",
    "    session_config=tf.ConfigProto(allow_soft_placement=True, log_device_placement=True),\n",
    "    tpu_config=tf.contrib.tpu.TPUConfig(FLAGS.iterations, FLAGS.num_shards),\n",
    ")\n",
    "\n",
    "# Create the Estimator\n",
    "if FLAGS.use_tpu:\n",
    "    classifier = tf.contrib.tpu.TPUEstimator(\n",
    "        model_fn=mobilenet_model_fn,\n",
    "        config=my_tpu_run_config,\n",
    "        use_tpu=FLAGS.use_tpu)\n",
    "else:\n",
    "    classifier = tf.estimator.Estimator(model_fn=mobilenet_model_fn, model_dir=paths[\"Model\"])"
   ]
  },
  {
   "cell_type": "code",
   "execution_count": 19,
   "metadata": {
    "collapsed": true
   },
   "outputs": [],
   "source": [
    "# Create the input functions.\n",
    "eval_params = {'batch-size':DEFAULT_BS}\n",
    "train_params = {'batch-size':BATCH_SIZE}\n",
    "training_eval_input_fn = create_predict_input_fn(train_data, DEFAULT_BS)\n",
    "validation_eval_input_fn = create_predict_input_fn(validation_data, DEFAULT_BS)\n",
    "train_input_fn = create_training_input_fn(train_data, BATCH_SIZE)"
   ]
  },
  {
   "cell_type": "code",
   "execution_count": 20,
   "metadata": {},
   "outputs": [
    {
     "name": "stdout",
     "output_type": "stream",
     "text": [
      "Start: 2018-07-18 20:57:31.454353\n",
      "Training model...\n",
      "Metrics:\n",
      "\tPERIOD\tTYPE\tTRAIN.\tVALID.\n",
      "\t0\tLgLs\t2.53\t2.48\n",
      "\t\tAcc.\t28.78%\t29.76%\n",
      "\n",
      "\t1\tLgLs\t2.38\t2.34\n",
      "\t\tAcc.\t32.99%\t33.71%\n",
      "\n",
      "End: 2018-07-18 21:11:44.608299\n",
      "Finished in 00:00:14:13.154\n"
     ]
    }
   ],
   "source": [
    "# Train\n",
    "classifier, accuracy, t_lls, v_lls, t_accs, v_accs = timer(train)"
   ]
  },
  {
   "cell_type": "code",
   "execution_count": 21,
   "metadata": {},
   "outputs": [
    {
     "name": "stdout",
     "output_type": "stream",
     "text": [
      "Final accuracy (on validation data): 33.7119%\n"
     ]
    },
    {
     "data": {
      "image/png": "[encoded data removed]",
      "text/plain": [
       "<matplotlib.figure.Figure at 0x7feca8a6aa90>"
      ]
     },
     "metadata": {},
     "output_type": "display_data"
    },
    {
     "data": {
      "image/png": "[encoded data removed]",
      "text/plain": [
       "<matplotlib.figure.Figure at 0x7feca869e1d0>"
      ]
     },
     "metadata": {},
     "output_type": "display_data"
    },
    {
     "data": {
      "text/plain": [
       "<matplotlib.figure.Figure at 0x7feca86a3be0>"
      ]
     },
     "metadata": {},
     "output_type": "display_data"
    }
   ],
   "source": [
    "print(\"Final accuracy (on validation data): {:.4f}%\".format(accuracy))\n",
    "\n",
    "# Output a graph of loss metrics over periods.\n",
    "if DISPLAY:\n",
    "    plt.ylabel(\"LogLoss\")\n",
    "    plt.xlabel(\"Periods\")\n",
    "    plt.title(\"LogLoss vs. Periods\")\n",
    "    plt.plot(t_lls, label=\"training\")\n",
    "    plt.plot(v_lls, label=\"validation\")\n",
    "    plt.legend()\n",
    "    plt.show()\n",
    "    plt.savefig(paths[\"LocalLogs\"] + \"loss.jpg\")\n",
    "    send_to_bucket(paths[\"LocalLogs\"] + \"loss.jpg\", paths[\"GCLogs\"] + \"loss.jpg\")\n",
    "\n",
    "# Output a graph of accuracy over periods.\n",
    "if DISPLAY:\n",
    "    plt.ylabel(\"Accuracy\")\n",
    "    plt.xlabel(\"Periods\")\n",
    "    plt.title(\"Accuracy vs. Periods\")\n",
    "    plt.plot(t_accs, label=\"training\")\n",
    "    plt.plot(v_accs, label=\"validation\")\n",
    "    plt.legend()\n",
    "    plt.show()\n",
    "    plt.savefig(paths[\"LocalLogs\"] + \"accuracy.jpg\")\n",
    "    send_to_bucket(paths[\"LocalLogs\"] + \"accuracy.jpg\", paths[\"GCLogs\"] + \"accuracy.jpg\")"
   ]
  },
  {
   "cell_type": "code",
   "execution_count": 24,
   "metadata": {},
   "outputs": [
    {
     "name": "stdout",
     "output_type": "stream",
     "text": [
      "Start: 2018-07-18 21:15:02.003881\n",
      "End: 2018-07-18 21:41:26.339855\n",
      "Finished in 00:00:26:24.336\n"
     ]
    }
   ],
   "source": [
    "# Make Predictions\n",
    "test_input_fn = create_predict_input_fn(test_data, DEFAULT_BS)\n",
    "f = lambda: np.array([item['classes'] for item in classifier.predict(input_fn=test_input_fn)])\n",
    "predictions = timer(f)\n",
    "predictions = [reverse_lookup[x] for x in predictions]"
   ]
  },
  {
   "cell_type": "code",
   "execution_count": 25,
   "metadata": {},
   "outputs": [
    {
     "name": "stdout",
     "output_type": "stream",
     "text": [
      "                     fname    label\n",
      "0       clip_acdd680e6.wav     stop\n",
      "1       clip_7f3e8aadd.wav     stop\n",
      "2       clip_d63745704.wav    right\n",
      "3       clip_3ee75e2ec.wav       go\n",
      "4       clip_a2e1a87ad.wav     stop\n",
      "5       clip_b7f6cfdee.wav      yes\n",
      "6       clip_521c0fe6c.wav  silence\n",
      "7       clip_3526fb428.wav       on\n",
      "8       clip_002716f99.wav       on\n",
      "9       clip_b01a21a25.wav       up\n",
      "10      clip_1423b5ae9.wav       up\n",
      "11      clip_2df4aadd0.wav     down\n",
      "12      clip_7603fed12.wav    right\n",
      "13      clip_fe6b09280.wav     left\n",
      "14      clip_10c15caea.wav      off\n",
      "15      clip_0cb7dcd9c.wav     down\n",
      "16      clip_2567b3e73.wav       up\n",
      "17      clip_65d147a85.wav       up\n",
      "18      clip_67bdbb49e.wav    right\n",
      "19      clip_2d03c2dbf.wav       on\n",
      "20      clip_e3fbbdf03.wav  silence\n",
      "21      clip_52858da24.wav     stop\n",
      "22      clip_a62953cd1.wav     left\n",
      "23      clip_d1fdb62eb.wav       on\n",
      "24      clip_076b2daff.wav      yes\n",
      "25      clip_c342cb1e9.wav     down\n",
      "26      clip_4e9384d68.wav     stop\n",
      "27      clip_9538f998a.wav    right\n",
      "28      clip_60b639336.wav       up\n",
      "29      clip_2639acd9d.wav      off\n",
      "...                    ...      ...\n",
      "158508  clip_d41c8b8cb.wav       go\n",
      "158509  clip_ee33f7098.wav      off\n",
      "158510  clip_7c52a69ec.wav       up\n",
      "158511  clip_f96326dfa.wav     down\n",
      "158512  clip_d41f28528.wav     down\n",
      "158513  clip_851164365.wav     stop\n",
      "158514  clip_2f0ec308a.wav       go\n",
      "158515  clip_0de40871f.wav  silence\n",
      "158516  clip_a49ec1acf.wav       go\n",
      "158517  clip_93393e597.wav    right\n",
      "158518  clip_3a8c9506b.wav      off\n",
      "158519  clip_0cd41bd57.wav    right\n",
      "158520  clip_267b884ed.wav      yes\n",
      "158521  clip_769179abc.wav       up\n",
      "158522  clip_bc61d5ca2.wav      off\n",
      "158523  clip_b5d3c3834.wav       up\n",
      "158524  clip_4f163cd98.wav       go\n",
      "158525  clip_37e100777.wav     left\n",
      "158526  clip_086701d22.wav       on\n",
      "158527  clip_63e0daafc.wav  unknown\n",
      "158528  clip_5c3500885.wav       up\n",
      "158529  clip_d73f2b77f.wav    right\n",
      "158530  clip_cdf734b5c.wav       no\n",
      "158531  clip_97f3d3d56.wav       up\n",
      "158532  clip_5d9205060.wav       up\n",
      "158533  clip_a488c5bae.wav       up\n",
      "158534  clip_88af72ee6.wav     down\n",
      "158535  clip_1ff58b6da.wav    right\n",
      "158536  clip_1584daef1.wav       up\n",
      "158537  clip_4345265f0.wav     left\n",
      "\n",
      "[158538 rows x 2 columns]\n"
     ]
    }
   ],
   "source": [
    "# Make the output Dataframe\n",
    "output = pd.DataFrame({id_label:ids, target_label:predictions})\n",
    "print(output)"
   ]
  },
  {
   "cell_type": "code",
   "execution_count": 26,
   "metadata": {},
   "outputs": [
    {
     "data": {
      "image/png": "[encoded data removed]",
      "text/plain": [
       "<matplotlib.figure.Figure at 0x7feca92f4518>"
      ]
     },
     "metadata": {},
     "output_type": "display_data"
    }
   ],
   "source": [
    "if DISPLAY:\n",
    "    ax = sns.countplot(x=target_label, data=output)\n",
    "    ax.set_title(\"Label Counts For Output\")\n",
    "    ax.get_figure().savefig(paths[\"LocalLogs\"] + \"output_counts.jpg\")\n",
    "    send_to_bucket(paths[\"LocalLogs\"] + \"output_counts.jpg\", paths[\"GCLogs\"] + \"output_counts.jpg\")"
   ]
  },
  {
   "cell_type": "code",
   "execution_count": 27,
   "metadata": {},
   "outputs": [
    {
     "name": "stdout",
     "output_type": "stream",
     "text": [
      "Filename: 'A33.7119_TypeTL_TPU_LR0.005_S100_B64_mobilenetv2-128.csv'\n"
     ]
    }
   ],
   "source": [
    "name = OUTSTR.format(accuracy, TYPE, LEARNING_RATE, LEARNING_STEPS, BATCH_SIZE,\"_\" + NOTES if NOTES else \"\")\n",
    "print(\"Filename: '{}'\".format(name))\n",
    "if not TEST:\n",
    "    output.to_csv(name, index=False)\n",
    "    print(\"Saved to './{}'\".format(name))\n",
    "    send_to_bucket(name, GCROOT + name)"
   ]
  },
  {
   "cell_type": "code",
   "execution_count": null,
   "metadata": {
    "collapsed": true
   },
   "outputs": [],
   "source": []
  }
 ],
 "metadata": {
  "kernelspec": {
   "display_name": "Python 3",
   "language": "python",
   "name": "python3"
  },
  "language_info": {
   "codemirror_mode": {
    "name": "ipython",
    "version": 3
   },
   "file_extension": ".py",
   "mimetype": "text/x-python",
   "name": "python",
   "nbconvert_exporter": "python",
   "pygments_lexer": "ipython3",
   "version": "3.5.4"
  }
 },
 "nbformat": 4,
 "nbformat_minor": 2
}
