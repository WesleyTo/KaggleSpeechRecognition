{
 "cells": [
  {
   "cell_type": "code",
   "execution_count": 1,
   "metadata": {
    "collapsed": true
   },
   "outputs": [],
   "source": [
    "import os\n",
    "from pathlib import Path\n",
    "import IPython.display as ipd\n",
    "import random\n",
    "import numpy as np # linear algebra\n",
    "import pandas as pd # data processing, CSV file I/O (e.g. pd.read_csv)\n",
    "import matplotlib.pyplot as plt\n",
    "from scipy import signal\n",
    "from scipy.io import wavfile\n",
    "import plotly.graph_objs as go\n",
    "import plotly.offline as py\n",
    "from IPython import display\n",
    "import time\n",
    "from datetime import datetime, timedelta\n",
    "import tensorflow as tf\n",
    "import seaborn as sns\n",
    "from subprocess import check_output\n",
    "from scipy.fftpack import fft\n",
    "from scipy import signal\n",
    "from scipy.io import wavfile\n",
    "import librosa\n",
    "import librosa.display\n",
    "from PIL import Image\n",
    "import subprocess\n",
    "%matplotlib inline\n",
    "\n",
    "tf.logging.set_verbosity(tf.logging.ERROR)\n",
    "\n",
    "# NOTES\n",
    "NOTES = \"MFCC_28x28_Combined_3\"\n",
    "\n",
    "# VARS\n",
    "target_label = \"label\"\n",
    "id_label = \"fname\"\n",
    "OUTSTR = \"A{:.4f}_Type{}_UDR{}_THRESH{:5.3f}_DROP{}_LR{}_S{}_B{}{}.csv\"\n",
    "IMG_EXT = \".png\"\n",
    "VERBOSE = True\n",
    "DISPLAY = True\n",
    "TEST = False\n",
    "MFCC = True\n",
    "TPU = False\n",
    "TARGET_WIDTH = 128\n",
    "TARGET_HEIGHT = 128\n",
    "DECAY_RATE = 0.9\n",
    "CHANNELS = 3\n",
    "DROPOUT = 0.4\n",
    "TYPE = \"CNN\"\n",
    "DEFAULT_BS = 128 # default batch size\n",
    "UNK_DROP_RATE = 1.0 # drop 100% of unknown categories\n",
    "\n",
    "if TEST:\n",
    "    LEARNING_STEPS = 100\n",
    "    SPP = 4\n",
    "    LEARNING_RATE = .05\n",
    "    BATCH_SIZE = 64\n",
    "    VERBOSITY = 1000\n",
    "    TEST_SIZE = 1100\n",
    "    SHUFFLE_SIZE = 1\n",
    "else:\n",
    "    LEARNING_STEPS = 20000\n",
    "    SPP = 800\n",
    "    LEARNING_RATE = .0375\n",
    "    BATCH_SIZE = 64\n",
    "    VERBOSITY = 1000\n",
    "    SHUFFLE_SIZE = 2500\n",
    "\n",
    "def curr_time():\n",
    "    return datetime.now() - timedelta(hours=7) # offset from UTC to PST\n",
    "\n",
    "IMAGES = \"images/\"\n",
    "if MFCC:\n",
    "    IMAGES=\"mfcc_noisy/\"\n",
    "KAGGLE = \"/home/wesleytocs/.kaggle/competitions/tensorflow-speech-recognition-challenge/\"\n",
    "ROOT = \"/home/wesleytocs/Speech/\"\n",
    "CLEAN_DIR = ROOT + \"mfcc/\" + \"train\"\n",
    "# PATHS\n",
    "paths = {\n",
    "    \"Kaggle\":KAGGLE,\n",
    "    \"Training\":KAGGLE+\"train/audio\",\n",
    "    \"Images\":ROOT+IMAGES,\n",
    "    \"TrainImg\":ROOT+IMAGES+\"train\",\n",
    "    \"TestImg\":ROOT+IMAGES+\"test\",\n",
    "    \"Testing\":KAGGLE+\"test/audio\",\n",
    "    \"Model\":ROOT+\"model_dir_CNN_28_combined_short_3/\",\n",
    "    \"Logs\":ROOT+\"logs/CNN_28_{}_combined_short_3/\".format(datetime.strftime(curr_time(), \"%b%d%Y_%H%M%S\"))\n",
    "}\n",
    "paths[\"Log\"] = paths[\"Logs\"] + \"log.txt\"\n",
    "if not os.path.isdir(paths[\"Logs\"]):\n",
    "    os.mkdir(paths[\"Logs\"])\n",
    "if not os.path.isdir(paths[\"Images\"]):\n",
    "    os.mkdir(paths[\"Images\"])\n",
    "if not os.path.isdir(paths[\"TrainImg\"]):\n",
    "    os.mkdir(paths[\"TrainImg\"])\n",
    "if not os.path.isdir(paths[\"TestImg\"]):\n",
    "    os.mkdir(paths[\"TestImg\"])"
   ]
  },
  {
   "cell_type": "code",
   "execution_count": 2,
   "metadata": {
    "collapsed": true
   },
   "outputs": [],
   "source": [
    "def make_header(s):\n",
    "    return (\"#\" * 42) + (\"\\n{:^42}\\n\".format(s)) + (\"#\" * 42)\n",
    "    \n",
    "def print_and_log(s):\n",
    "    with open(paths[\"Log\"], 'a') as log:\n",
    "        log.write(str(s))\n",
    "        log.write(\"\\n\")\n",
    "    print(s)\n",
    "        \n",
    "def print_and_log_header(s):\n",
    "    h = make_header(str(s))\n",
    "    with open(paths[\"Log\"], 'a') as log:\n",
    "        log.write(h)\n",
    "        log.write(\"\\n\")\n",
    "    print(h)"
   ]
  },
  {
   "cell_type": "code",
   "execution_count": 3,
   "metadata": {
    "collapsed": true
   },
   "outputs": [],
   "source": [
    "def sec_to_str(secs):\n",
    "    ms = secs - int(secs)\n",
    "    days = int(secs // (24 * 3600))\n",
    "    hours = int((secs % ((24 * 3600))) // 3600)\n",
    "    minutes = int((secs % 3600) // 60)\n",
    "    seconds = int(secs % 60)\n",
    "    return \"{:02}:{:02}:{:02}:{:02}.{}\".format(days, hours, minutes, seconds, \"{:.3}\".format(ms)[2:])\n",
    "\n",
    "def timer(f, *args):\n",
    "    print_and_log(\"Start: {}\".format(curr_time()))\n",
    "    start = time.time()\n",
    "    result = f(*args)\n",
    "    end = time.time()\n",
    "    print_and_log(\"End: {}\".format(curr_time()))\n",
    "    print_and_log(\"Finished in {}\".format(sec_to_str(end - start)))\n",
    "    return result\n",
    "    \n",
    "def get_noise():\n",
    "    files = os.listdir(paths[\"Training\"] + \"/silence\")\n",
    "    return paths[\"Training\"] + \"/silence/\" + random.choice(files)\n",
    "\n",
    "def preprocess(samples, sample_rate):\n",
    "    padded = np.zeros(sample_rate)\n",
    "    samples = samples[:sample_rate]\n",
    "    padded[:samples.shape[0]] = samples\n",
    "    return padded"
   ]
  },
  {
   "cell_type": "code",
   "execution_count": 4,
   "metadata": {
    "collapsed": true
   },
   "outputs": [],
   "source": [
    "def make_images_from_wav(data_path, image_path, overwrite=False, useLabels=True, noisy=True):\n",
    "    plt.ioff()\n",
    "    lbls = all_labels\n",
    "    if not useLabels:\n",
    "        lbls = {\"\":\"\"}\n",
    "    LABELS = []\n",
    "    PATHS = []\n",
    "    items = 0\n",
    "    found = 0\n",
    "    created = 0\n",
    "    for label in lbls:\n",
    "        label_path = os.path.join(image_path, label)\n",
    "        print_and_log(\"\\tProcessing: {}\".format(label_path))\n",
    "        if not os.path.isdir(label_path):\n",
    "            os.mkdir(label_path)\n",
    "        for file in [item for item in os.listdir(os.path.join(data_path, label)) if item.endswith(\".wav\")]:\n",
    "            items += 1\n",
    "            wavpath = os.path.join(data_path, label, file)\n",
    "            imgpath = os.path.join(label_path, file[:-4] + \".png\")\n",
    "            if overwrite or not os.path.isfile(imgpath):\n",
    "                created += 1\n",
    "                if MFCC:\n",
    "                    noisepath = get_noise()\n",
    "                    sample_rate, samples = wavfile.read(wavpath)\n",
    "                    samples = preprocess(samples, sample_rate)\n",
    "                    if noisy and (label != \"silence\"):\n",
    "                        _, noise = wavfile.read(noisepath)\n",
    "                        noise = preprocess(noise, _)\n",
    "                        np.add(samples, noise, out=samples)\n",
    "                    freqs, times, spectrogram = signal.spectrogram(samples, sample_rate)\n",
    "                    S = librosa.feature.melspectrogram(samples, sr=sample_rate, n_mels=64, S=spectrogram)\n",
    "                    log_S = librosa.power_to_db(S, ref=np.max)\n",
    "                    fig = plt.figure(figsize=(1.28, 1.28), dpi=100, frameon=False)\n",
    "                    ax = plt.Axes(fig, [0., 0., 1., 1.])\n",
    "                    ax.set_axis_off()\n",
    "                    fig.add_axes(ax)\n",
    "                    plt.axis('off')\n",
    "                    librosa.display.specshow(log_S)\n",
    "                    plt.savefig(imgpath)\n",
    "                    plt.close()\n",
    "                else:\n",
    "                    command = [\"sox\", wavpath, \"-n\", \"spectrogram\", \"-x\", str(TARGET_WIDTH), \"-y\", str(TARGET_HEIGHT), \"-r\", \"-o\", imgpath]\n",
    "                    subprocess.run(command) # multithread? CPU underutilized here\n",
    "                if VERBOSE and items % VERBOSITY == 0:\n",
    "                    print_and_log(\"\\t            Created {}th .png file\".format(items))\n",
    "            else:\n",
    "                found += 1\n",
    "                if VERBOSE and items % VERBOSITY == 0:\n",
    "                    print_and_log(\"\\t            Found {}th .png file\".format(items))\n",
    "            if useLabels:\n",
    "                LABELS.append(labels.get(label, labels['unknown']))\n",
    "            PATHS.append(imgpath)\n",
    "    print_and_log(\"\\tFound:\\t\\t{}\\n\\tCreated:\\t{}\".format(found, created))\n",
    "    if useLabels:\n",
    "        df = pd.DataFrame({target_label:LABELS, \"Path\":PATHS})\n",
    "    else:\n",
    "        df = pd.DataFrame({\"Path\":PATHS})\n",
    "    plt.ion()\n",
    "    return df"
   ]
  },
  {
   "cell_type": "code",
   "execution_count": 5,
   "metadata": {
    "collapsed": true
   },
   "outputs": [],
   "source": [
    "count = 0\n",
    "def _parse_function(filename, label):\n",
    "    global count\n",
    "    count += 1\n",
    "    if count % VERBOSITY == 0:\n",
    "        print_and_log(\"\\tProcessed {}th image\".format(count))\n",
    "    expected_shape = tf.constant([1, TARGET_HEIGHT, TARGET_WIDTH, CHANNELS])\n",
    "    image_string = tf.read_file(filename)\n",
    "    image_decoded = tf.image.decode_image(image_string, channels=CHANNELS)\n",
    "    image_decoded = tf.image.convert_image_dtype(image_decoded, tf.float32)\n",
    "    image_decoded = tf.reshape(image_decoded, expected_shape)\n",
    "    image_decoded = tf.image.rgb_to_grayscale(image_decoded)\n",
    "    image_decoded = tf.image.resize_bicubic(image_decoded, [28, 28])\n",
    "    return image_decoded, label"
   ]
  },
  {
   "cell_type": "code",
   "execution_count": 6,
   "metadata": {
    "collapsed": true
   },
   "outputs": [],
   "source": [
    "def model_fn(features, labels, mode):\n",
    "    input_layer = tf.reshape(features, [-1, 28, 28, 1])\n",
    "    pool = input_layer\n",
    "\n",
    "    for num_filters in [32, 64]:\n",
    "        conv = tf.layers.conv2d(\n",
    "            inputs=pool,\n",
    "            filters=num_filters,\n",
    "            kernel_size=[5, 5],\n",
    "            padding=\"same\",\n",
    "            activation=tf.nn.relu)\n",
    "        pool = tf.layers.max_pooling2d(inputs=conv, pool_size=[2, 2], strides=2)\n",
    "\n",
    "    # Dense Layer\n",
    "    pool = tf.layers.flatten(pool)\n",
    "    dense = tf.layers.dense(inputs=pool, units=1024, activation=tf.nn.relu)\n",
    "    dropout = tf.layers.dropout(inputs=dense, rate=DROPOUT, training=mode == tf.estimator.ModeKeys.TRAIN)\n",
    "\n",
    "    # Logits Layer\n",
    "    logits = tf.layers.dense(inputs=dropout, units=num_labels)\n",
    "    \n",
    "    predictions = {\n",
    "        \"classes\": tf.argmax(input=logits, axis=1),\n",
    "        \"probabilities\": tf.nn.softmax(logits, name=\"softmax_tensor\")\n",
    "    }\n",
    "    if not TPU:\n",
    "        tf.summary.histogram(\"predictions\", predictions[\"probabilities\"])\n",
    "        tf.summary.histogram(\"classes\", predictions[\"classes\"])\n",
    "\n",
    "    if mode == tf.estimator.ModeKeys.PREDICT:\n",
    "        return tf.estimator.EstimatorSpec(mode=mode, predictions=predictions)\n",
    "\n",
    "    learning_rate = tf.train.exponential_decay(LEARNING_RATE, tf.train.get_global_step(), SPP, DECAY_RATE, staircase=True)\n",
    "    \n",
    "    # Calculate Loss (for both TRAIN and EVAL modes)\n",
    "    loss = tf.losses.sparse_softmax_cross_entropy(labels=labels, logits=logits)\n",
    "    predictions[\"loss\"] = loss\n",
    "    \n",
    "    # Configure the Training Op (for TRAIN mode)\n",
    "    if mode == tf.estimator.ModeKeys.TRAIN:\n",
    "        optimizer = tf.train.GradientDescentOptimizer(learning_rate=LEARNING_RATE)\n",
    "        if TPU:\n",
    "            optimizer = tf.contrib.tpu.CrossShardOptimizer(optimizer)\n",
    "        train_op = optimizer.minimize(\n",
    "            loss=loss,\n",
    "            global_step=tf.train.get_global_step())\n",
    "        return tf.estimator.EstimatorSpec(mode=mode, loss=loss, train_op=train_op)\n",
    "\n",
    "    # Add evaluation metrics (for EVAL mode)\n",
    "    eval_metric_ops = {\n",
    "        \"accuracy\": tf.metrics.accuracy(\n",
    "            labels=labels, predictions=predictions[\"classes\"])}\n",
    "    return tf.estimator.EstimatorSpec(\n",
    "        mode=mode, loss=loss, eval_metric_ops=eval_metric_ops)"
   ]
  },
  {
   "cell_type": "code",
   "execution_count": 7,
   "metadata": {
    "collapsed": true
   },
   "outputs": [],
   "source": [
    "def create_training_input_fn(dataset, batch_size, num_epochs=None):\n",
    "    def _input_fn(num_epochs=None, shuffle=True):\n",
    "        ds = dataset.batch(batch_size).repeat(num_epochs)\n",
    "        if shuffle:\n",
    "            ds = ds.shuffle(SHUFFLE_SIZE)\n",
    "        feature_batch, label_batch = ds.make_one_shot_iterator().get_next()\n",
    "        return feature_batch, label_batch\n",
    "    return _input_fn\n",
    "\n",
    "def create_predict_input_fn(dataset, batch_size):\n",
    "    def _input_fn():\n",
    "        ds = dataset.batch(batch_size)\n",
    "        feature_batch, label_batch = ds.make_one_shot_iterator().get_next()\n",
    "        return feature_batch, label_batch\n",
    "    return _input_fn\n",
    "\n",
    "def train_helper(steps_per_period):\n",
    "    classifier.train(\n",
    "        input_fn=train_input_fn,\n",
    "        steps=steps_per_period)\n",
    "    training_stats = classifier.evaluate(input_fn=training_eval_input_fn)\n",
    "    validation_stats = classifier.evaluate(input_fn=validation_eval_input_fn)\n",
    "    t_ll = training_stats[\"loss\"]\n",
    "    t_acc = 100 * training_stats[\"accuracy\"]\n",
    "    v_ll = validation_stats[\"loss\"]\n",
    "    v_acc = 100 * validation_stats[\"accuracy\"]\n",
    "    return classifier, t_ll, v_ll, t_acc, v_acc\n",
    "\n",
    "def train():\n",
    "    periods = LEARNING_STEPS // SPP\n",
    "    steps_per_period = LEARNING_STEPS // periods\n",
    "    t_accs, v_accs = [], []\n",
    "    t_lls, v_lls = [], []\n",
    "    print_and_log(\"Training model...\\nMetrics:\")\n",
    "    print_and_log(\"\\tPERIOD\\tRATE\\tTYPE\\tTRAIN.\\tVALID.\\tTIME\")\n",
    "    for period in range(periods):\n",
    "        lr = LEARNING_RATE * (DECAY_RATE ** ((period * SPP) / SPP))\n",
    "        classifier, t_ll, v_ll, t_acc, v_acc = train_helper(steps_per_period)\n",
    "        print_and_log(\"\\t{}\\t{:.5f}\\tLgLs\\t{:.2f}\\t{:.2f}\\t{}\".format(period, lr, t_ll, v_ll, curr_time()))\n",
    "        print_and_log(\"\\t\\t\\tAcc.\\t{:.2f}%\\t{:.2f}%\\n\".format(t_acc, v_acc))\n",
    "        t_lls.append(t_ll)\n",
    "        v_lls.append(v_ll)\n",
    "        t_accs.append(t_acc)\n",
    "        v_accs.append(v_acc)\n",
    "    v_accuracy = v_accs[-1]\n",
    "    return classifier, v_accuracy, t_lls, v_lls, t_accs, v_accs"
   ]
  },
  {
   "cell_type": "code",
   "execution_count": 8,
   "metadata": {},
   "outputs": [
    {
     "name": "stdout",
     "output_type": "stream",
     "text": [
      "link_to_gcp_credits_form.txt\n",
      "sample_submission.csv\n",
      "test\n",
      "train\n",
      "\n",
      "['tree', 'five', 'dog', 'happy', 'go', 'right', '_background_noise_', 'marvin', 'no', 'eight', 'one', 'bed', 'bird', 'nine', 'wow', 'two', 'on', 'stop', 'house', 'silence.old', 'left', 'silence', 'seven', 'three', 'sheila', 'zero', 'cat', 'four', 'off', 'yes', 'down', 'up', 'six']\n"
     ]
    }
   ],
   "source": [
    "with open(paths[\"Log\"], 'w') as log:\n",
    "    log.write(make_header(\"Starting Script\\n\"))\n",
    "    \n",
    "if VERBOSE:\n",
    "    print(check_output([\"ls\", paths[\"Kaggle\"]]).decode(\"utf8\"))\n",
    "    print(os.listdir(paths[\"Training\"]))"
   ]
  },
  {
   "cell_type": "code",
   "execution_count": 9,
   "metadata": {
    "collapsed": true
   },
   "outputs": [],
   "source": [
    "# Create variables for the paths\n",
    "train_audio_path = paths[\"Training\"]\n",
    "test_audio_path = paths[\"Testing\"]\n",
    "train_image_path = paths[\"TrainImg\"]\n",
    "test_image_path = paths[\"TestImg\"]\n",
    "\n",
    "# Store the labels to train\n",
    "all_labels = ['tree', 'five', 'dog', 'happy', 'go', 'right',\n",
    "          'marvin', 'no', 'eight', 'one', 'bed', 'bird',\n",
    "          'nine', 'wow', 'two', 'on', 'stop', 'house', 'left',\n",
    "          'silence', 'seven', 'three', 'sheila', 'zero', 'cat',\n",
    "          'four', 'off', 'yes', 'down', 'up', 'six']\n",
    "labels = [\"yes\", \"no\", \"up\", \"down\", \"left\", \"right\", \"on\", \"off\", \"stop\", \"go\", \"silence\", \"unknown\"]\n",
    "num_labels = len(labels) - 1\n",
    "labels = {x[1]:x[0] for x in enumerate(labels)}\n",
    "reverse_lookup = {labels[k]:k for k in labels}"
   ]
  },
  {
   "cell_type": "code",
   "execution_count": 10,
   "metadata": {},
   "outputs": [
    {
     "name": "stdout",
     "output_type": "stream",
     "text": [
      "##########################################\n",
      "        MAKING NOISY TRAINING DATA        \n",
      "##########################################\n",
      "Start: 2018-08-01 02:28:35.259824\n",
      "\tProcessing: /home/wesleytocs/Speech/mfcc_noisy/train/tree\n",
      "\t            Found 1000th .png file\n",
      "\tProcessing: /home/wesleytocs/Speech/mfcc_noisy/train/five\n",
      "\t            Found 2000th .png file\n",
      "\t            Found 3000th .png file\n",
      "\t            Found 4000th .png file\n",
      "\tProcessing: /home/wesleytocs/Speech/mfcc_noisy/train/dog\n",
      "\t            Found 5000th .png file\n",
      "\tProcessing: /home/wesleytocs/Speech/mfcc_noisy/train/happy\n",
      "\t            Found 6000th .png file\n",
      "\t            Found 7000th .png file\n",
      "\tProcessing: /home/wesleytocs/Speech/mfcc_noisy/train/go\n",
      "\t            Found 8000th .png file\n",
      "\t            Found 9000th .png file\n",
      "\tProcessing: /home/wesleytocs/Speech/mfcc_noisy/train/right\n",
      "\t            Found 10000th .png file\n",
      "\t            Found 11000th .png file\n",
      "\t            Found 12000th .png file\n",
      "\tProcessing: /home/wesleytocs/Speech/mfcc_noisy/train/marvin\n",
      "\t            Found 13000th .png file\n",
      "\t            Found 14000th .png file\n",
      "\tProcessing: /home/wesleytocs/Speech/mfcc_noisy/train/no\n",
      "\t            Found 15000th .png file\n",
      "\t            Found 16000th .png file\n",
      "\tProcessing: /home/wesleytocs/Speech/mfcc_noisy/train/eight\n",
      "\t            Found 17000th .png file\n",
      "\t            Found 18000th .png file\n",
      "\tProcessing: /home/wesleytocs/Speech/mfcc_noisy/train/one\n",
      "\t            Found 19000th .png file\n",
      "\t            Found 20000th .png file\n",
      "\t            Found 21000th .png file\n",
      "\tProcessing: /home/wesleytocs/Speech/mfcc_noisy/train/bed\n",
      "\t            Found 22000th .png file\n",
      "\tProcessing: /home/wesleytocs/Speech/mfcc_noisy/train/bird\n",
      "\t            Found 23000th .png file\n",
      "\t            Found 24000th .png file\n",
      "\tProcessing: /home/wesleytocs/Speech/mfcc_noisy/train/nine\n",
      "\t            Found 25000th .png file\n",
      "\t            Found 26000th .png file\n",
      "\tProcessing: /home/wesleytocs/Speech/mfcc_noisy/train/wow\n",
      "\t            Found 27000th .png file\n",
      "\t            Found 28000th .png file\n",
      "\tProcessing: /home/wesleytocs/Speech/mfcc_noisy/train/two\n",
      "\t            Found 29000th .png file\n",
      "\t            Found 30000th .png file\n",
      "\t            Found 31000th .png file\n",
      "\tProcessing: /home/wesleytocs/Speech/mfcc_noisy/train/on\n",
      "\t            Found 32000th .png file\n",
      "\t            Found 33000th .png file\n",
      "\tProcessing: /home/wesleytocs/Speech/mfcc_noisy/train/stop\n",
      "\t            Found 34000th .png file\n",
      "\t            Found 35000th .png file\n",
      "\tProcessing: /home/wesleytocs/Speech/mfcc_noisy/train/house\n",
      "\t            Found 36000th .png file\n",
      "\t            Found 37000th .png file\n",
      "\tProcessing: /home/wesleytocs/Speech/mfcc_noisy/train/left\n",
      "\t            Found 38000th .png file\n",
      "\t            Found 39000th .png file\n",
      "\tProcessing: /home/wesleytocs/Speech/mfcc_noisy/train/silence\n",
      "\t            Found 40000th .png file\n",
      "\t            Found 41000th .png file\n",
      "\t            Found 42000th .png file\n",
      "\t            Found 43000th .png file\n",
      "\tProcessing: /home/wesleytocs/Speech/mfcc_noisy/train/seven\n",
      "\t            Found 44000th .png file\n",
      "\t            Found 45000th .png file\n",
      "\t            Found 46000th .png file\n",
      "\tProcessing: /home/wesleytocs/Speech/mfcc_noisy/train/three\n",
      "\t            Found 47000th .png file\n",
      "\t            Found 48000th .png file\n",
      "\tProcessing: /home/wesleytocs/Speech/mfcc_noisy/train/sheila\n",
      "\t            Found 49000th .png file\n",
      "\t            Found 50000th .png file\n",
      "\tProcessing: /home/wesleytocs/Speech/mfcc_noisy/train/zero\n",
      "\t            Found 51000th .png file\n",
      "\t            Found 52000th .png file\n",
      "\tProcessing: /home/wesleytocs/Speech/mfcc_noisy/train/cat\n",
      "\t            Found 53000th .png file\n",
      "\t            Found 54000th .png file\n",
      "\tProcessing: /home/wesleytocs/Speech/mfcc_noisy/train/four\n",
      "\t            Found 55000th .png file\n",
      "\t            Found 56000th .png file\n",
      "\tProcessing: /home/wesleytocs/Speech/mfcc_noisy/train/off\n",
      "\t            Found 57000th .png file\n",
      "\t            Found 58000th .png file\n",
      "\t            Found 59000th .png file\n",
      "\tProcessing: /home/wesleytocs/Speech/mfcc_noisy/train/yes\n",
      "\t            Found 60000th .png file\n",
      "\t            Found 61000th .png file\n",
      "\tProcessing: /home/wesleytocs/Speech/mfcc_noisy/train/down\n",
      "\t            Found 62000th .png file\n",
      "\t            Found 63000th .png file\n",
      "\tProcessing: /home/wesleytocs/Speech/mfcc_noisy/train/up\n",
      "\t            Found 64000th .png file\n",
      "\t            Found 65000th .png file\n",
      "\t            Found 66000th .png file\n",
      "\tProcessing: /home/wesleytocs/Speech/mfcc_noisy/train/six\n",
      "\t            Found 67000th .png file\n",
      "\t            Found 68000th .png file\n",
      "\tFound:\t\t68713\n",
      "\tCreated:\t0\n",
      "End: 2018-08-01 02:28:37.151013\n",
      "Finished in 00:00:00:01.891\n",
      "##########################################\n",
      "        MAKING CLEAN TRAINING DATA        \n",
      "##########################################\n",
      "Start: 2018-08-01 02:28:37.153544\n",
      "\tProcessing: /home/wesleytocs/Speech/mfcc/train/tree\n",
      "\t            Found 1000th .png file\n",
      "\tProcessing: /home/wesleytocs/Speech/mfcc/train/five\n",
      "\t            Found 2000th .png file\n",
      "\t            Found 3000th .png file\n",
      "\t            Found 4000th .png file\n",
      "\tProcessing: /home/wesleytocs/Speech/mfcc/train/dog\n",
      "\t            Found 5000th .png file\n",
      "\tProcessing: /home/wesleytocs/Speech/mfcc/train/happy\n",
      "\t            Found 6000th .png file\n",
      "\t            Found 7000th .png file\n",
      "\tProcessing: /home/wesleytocs/Speech/mfcc/train/go\n",
      "\t            Found 8000th .png file\n",
      "\t            Found 9000th .png file\n",
      "\tProcessing: /home/wesleytocs/Speech/mfcc/train/right\n",
      "\t            Found 10000th .png file\n",
      "\t            Found 11000th .png file\n",
      "\t            Found 12000th .png file\n",
      "\tProcessing: /home/wesleytocs/Speech/mfcc/train/marvin\n",
      "\t            Found 13000th .png file\n",
      "\t            Found 14000th .png file\n",
      "\tProcessing: /home/wesleytocs/Speech/mfcc/train/no\n",
      "\t            Found 15000th .png file\n",
      "\t            Found 16000th .png file\n",
      "\tProcessing: /home/wesleytocs/Speech/mfcc/train/eight\n",
      "\t            Found 17000th .png file\n",
      "\t            Found 18000th .png file\n",
      "\tProcessing: /home/wesleytocs/Speech/mfcc/train/one\n",
      "\t            Found 19000th .png file\n",
      "\t            Found 20000th .png file\n",
      "\t            Found 21000th .png file\n",
      "\tProcessing: /home/wesleytocs/Speech/mfcc/train/bed\n",
      "\t            Found 22000th .png file\n",
      "\tProcessing: /home/wesleytocs/Speech/mfcc/train/bird\n",
      "\t            Found 23000th .png file\n",
      "\t            Found 24000th .png file\n",
      "\tProcessing: /home/wesleytocs/Speech/mfcc/train/nine\n",
      "\t            Found 25000th .png file\n",
      "\t            Found 26000th .png file\n",
      "\tProcessing: /home/wesleytocs/Speech/mfcc/train/wow\n",
      "\t            Found 27000th .png file\n",
      "\t            Found 28000th .png file\n",
      "\tProcessing: /home/wesleytocs/Speech/mfcc/train/two\n",
      "\t            Found 29000th .png file\n",
      "\t            Found 30000th .png file\n",
      "\t            Found 31000th .png file\n",
      "\tProcessing: /home/wesleytocs/Speech/mfcc/train/on\n",
      "\t            Found 32000th .png file\n",
      "\t            Found 33000th .png file\n",
      "\tProcessing: /home/wesleytocs/Speech/mfcc/train/stop\n",
      "\t            Found 34000th .png file\n",
      "\t            Found 35000th .png file\n",
      "\tProcessing: /home/wesleytocs/Speech/mfcc/train/house\n",
      "\t            Found 36000th .png file\n",
      "\t            Found 37000th .png file\n",
      "\tProcessing: /home/wesleytocs/Speech/mfcc/train/left\n",
      "\t            Found 38000th .png file\n",
      "\t            Found 39000th .png file\n",
      "\tProcessing: /home/wesleytocs/Speech/mfcc/train/silence\n",
      "\t            Found 40000th .png file\n",
      "\t            Found 41000th .png file\n",
      "\t            Found 42000th .png file\n",
      "\t            Found 43000th .png file\n",
      "\tProcessing: /home/wesleytocs/Speech/mfcc/train/seven\n",
      "\t            Found 44000th .png file\n",
      "\t            Found 45000th .png file\n",
      "\t            Found 46000th .png file\n",
      "\tProcessing: /home/wesleytocs/Speech/mfcc/train/three\n",
      "\t            Found 47000th .png file\n",
      "\t            Found 48000th .png file\n",
      "\tProcessing: /home/wesleytocs/Speech/mfcc/train/sheila\n",
      "\t            Found 49000th .png file\n",
      "\t            Found 50000th .png file\n",
      "\tProcessing: /home/wesleytocs/Speech/mfcc/train/zero\n",
      "\t            Found 51000th .png file\n",
      "\t            Found 52000th .png file\n",
      "\tProcessing: /home/wesleytocs/Speech/mfcc/train/cat\n",
      "\t            Found 53000th .png file\n",
      "\t            Found 54000th .png file\n",
      "\tProcessing: /home/wesleytocs/Speech/mfcc/train/four\n",
      "\t            Found 55000th .png file\n",
      "\t            Found 56000th .png file\n",
      "\tProcessing: /home/wesleytocs/Speech/mfcc/train/off\n",
      "\t            Found 57000th .png file\n",
      "\t            Found 58000th .png file\n",
      "\t            Found 59000th .png file\n",
      "\tProcessing: /home/wesleytocs/Speech/mfcc/train/yes\n",
      "\t            Found 60000th .png file\n",
      "\t            Found 61000th .png file\n",
      "\tProcessing: /home/wesleytocs/Speech/mfcc/train/down\n",
      "\t            Found 62000th .png file\n"
     ]
    },
    {
     "name": "stdout",
     "output_type": "stream",
     "text": [
      "\t            Found 63000th .png file\n",
      "\tProcessing: /home/wesleytocs/Speech/mfcc/train/up\n",
      "\t            Found 64000th .png file\n",
      "\t            Found 65000th .png file\n",
      "\t            Found 66000th .png file\n",
      "\tProcessing: /home/wesleytocs/Speech/mfcc/train/six\n",
      "\t            Found 67000th .png file\n",
      "\t            Found 68000th .png file\n",
      "\tFound:\t\t68713\n",
      "\tCreated:\t0\n",
      "End: 2018-08-01 02:28:38.974956\n",
      "Finished in 00:00:00:01.821\n",
      "##########################################\n",
      "                TRAIN DATA                \n",
      "##########################################\n",
      "               label\n",
      "count  133434.000000\n",
      "mean        8.662365\n",
      "std         3.536030\n",
      "min         0.000000\n",
      "25%         7.000000\n",
      "50%        11.000000\n",
      "75%        11.000000\n",
      "max        11.000000\n",
      "                                                Path  label\n",
      "0  /home/wesleytocs/Speech/mfcc_noisy/train/down/...      3\n",
      "1  /home/wesleytocs/Speech/mfcc_noisy/train/five/...     11\n",
      "2  /home/wesleytocs/Speech/mfcc_noisy/train/up/2b...      2\n",
      "3  /home/wesleytocs/Speech/mfcc_noisy/train/right...      5\n",
      "4  /home/wesleytocs/Speech/mfcc_noisy/train/right...      5\n",
      "5  /home/wesleytocs/Speech/mfcc_noisy/train/stop/...      8\n",
      "6  /home/wesleytocs/Speech/mfcc/train/off/f5e5e8b...      7\n",
      "7  /home/wesleytocs/Speech/mfcc_noisy/train/five/...     11\n",
      "8  /home/wesleytocs/Speech/mfcc_noisy/train/bird/...     11\n",
      "9  /home/wesleytocs/Speech/mfcc_noisy/train/down/...      3\n"
     ]
    }
   ],
   "source": [
    "# Make the training data\n",
    "print_and_log_header(\"MAKING NOISY TRAINING DATA\")\n",
    "train_data = timer(make_images_from_wav, train_audio_path, train_image_path)\n",
    "print_and_log_header(\"MAKING CLEAN TRAINING DATA\")\n",
    "clean_data = timer(make_images_from_wav, train_audio_path, CLEAN_DIR, False, True, False)\n",
    "clean_data.drop(clean_data[clean_data[target_label] == labels[\"silence\"]].sample(frac=1.0).index, inplace=True)\n",
    "train_data = train_data.append(clean_data)\n",
    "train_data = train_data.sample(frac=1).reset_index(drop=True)\n",
    "if VERBOSE:\n",
    "    print_and_log_header(\"TRAIN DATA\")\n",
    "    print_and_log(train_data.describe())\n",
    "    print_and_log(train_data.head(10))"
   ]
  },
  {
   "cell_type": "code",
   "execution_count": 11,
   "metadata": {},
   "outputs": [
    {
     "name": "stdout",
     "output_type": "stream",
     "text": [
      "##########################################\n",
      "             MAKING TEST DATA             \n",
      "##########################################\n",
      "Start: 2018-08-01 02:28:39.128247\n",
      "\tProcessing: /home/wesleytocs/Speech/mfcc_noisy/test/\n",
      "\t            Found 1000th .png file\n",
      "\t            Found 2000th .png file\n",
      "\t            Found 3000th .png file\n",
      "\t            Found 4000th .png file\n",
      "\t            Found 5000th .png file\n",
      "\t            Found 6000th .png file\n",
      "\t            Found 7000th .png file\n",
      "\t            Found 8000th .png file\n",
      "\t            Found 9000th .png file\n",
      "\t            Found 10000th .png file\n",
      "\t            Found 11000th .png file\n",
      "\t            Found 12000th .png file\n",
      "\t            Found 13000th .png file\n",
      "\t            Found 14000th .png file\n",
      "\t            Found 15000th .png file\n",
      "\t            Found 16000th .png file\n",
      "\t            Found 17000th .png file\n",
      "\t            Found 18000th .png file\n",
      "\t            Found 19000th .png file\n",
      "\t            Found 20000th .png file\n",
      "\t            Found 21000th .png file\n",
      "\t            Found 22000th .png file\n",
      "\t            Found 23000th .png file\n",
      "\t            Found 24000th .png file\n",
      "\t            Found 25000th .png file\n",
      "\t            Found 26000th .png file\n",
      "\t            Found 27000th .png file\n",
      "\t            Found 28000th .png file\n",
      "\t            Found 29000th .png file\n",
      "\t            Found 30000th .png file\n",
      "\t            Found 31000th .png file\n",
      "\t            Found 32000th .png file\n",
      "\t            Found 33000th .png file\n",
      "\t            Found 34000th .png file\n",
      "\t            Found 35000th .png file\n",
      "\t            Found 36000th .png file\n",
      "\t            Found 37000th .png file\n",
      "\t            Found 38000th .png file\n",
      "\t            Found 39000th .png file\n",
      "\t            Found 40000th .png file\n",
      "\t            Found 41000th .png file\n",
      "\t            Found 42000th .png file\n",
      "\t            Found 43000th .png file\n",
      "\t            Found 44000th .png file\n",
      "\t            Found 45000th .png file\n",
      "\t            Found 46000th .png file\n",
      "\t            Found 47000th .png file\n",
      "\t            Found 48000th .png file\n",
      "\t            Found 49000th .png file\n",
      "\t            Found 50000th .png file\n",
      "\t            Found 51000th .png file\n",
      "\t            Found 52000th .png file\n",
      "\t            Found 53000th .png file\n",
      "\t            Found 54000th .png file\n",
      "\t            Found 55000th .png file\n",
      "\t            Found 56000th .png file\n",
      "\t            Found 57000th .png file\n",
      "\t            Found 58000th .png file\n",
      "\t            Found 59000th .png file\n",
      "\t            Found 60000th .png file\n",
      "\t            Found 61000th .png file\n",
      "\t            Found 62000th .png file\n",
      "\t            Found 63000th .png file\n",
      "\t            Found 64000th .png file\n",
      "\t            Found 65000th .png file\n",
      "\t            Found 66000th .png file\n",
      "\t            Found 67000th .png file\n",
      "\t            Found 68000th .png file\n",
      "\t            Found 69000th .png file\n",
      "\t            Found 70000th .png file\n",
      "\t            Found 71000th .png file\n",
      "\t            Found 72000th .png file\n",
      "\t            Found 73000th .png file\n",
      "\t            Found 74000th .png file\n",
      "\t            Found 75000th .png file\n",
      "\t            Found 76000th .png file\n",
      "\t            Found 77000th .png file\n",
      "\t            Found 78000th .png file\n",
      "\t            Found 79000th .png file\n",
      "\t            Found 80000th .png file\n",
      "\t            Found 81000th .png file\n",
      "\t            Found 82000th .png file\n",
      "\t            Found 83000th .png file\n",
      "\t            Found 84000th .png file\n",
      "\t            Found 85000th .png file\n",
      "\t            Found 86000th .png file\n",
      "\t            Found 87000th .png file\n",
      "\t            Found 88000th .png file\n",
      "\t            Found 89000th .png file\n",
      "\t            Found 90000th .png file\n",
      "\t            Found 91000th .png file\n",
      "\t            Found 92000th .png file\n",
      "\t            Found 93000th .png file\n",
      "\t            Found 94000th .png file\n",
      "\t            Found 95000th .png file\n",
      "\t            Found 96000th .png file\n",
      "\t            Found 97000th .png file\n",
      "\t            Found 98000th .png file\n",
      "\t            Found 99000th .png file\n",
      "\t            Found 100000th .png file\n",
      "\t            Found 101000th .png file\n",
      "\t            Found 102000th .png file\n",
      "\t            Found 103000th .png file\n",
      "\t            Found 104000th .png file\n",
      "\t            Found 105000th .png file\n",
      "\t            Found 106000th .png file\n",
      "\t            Found 107000th .png file\n",
      "\t            Found 108000th .png file\n",
      "\t            Found 109000th .png file\n",
      "\t            Found 110000th .png file\n",
      "\t            Found 111000th .png file\n",
      "\t            Found 112000th .png file\n",
      "\t            Found 113000th .png file\n",
      "\t            Found 114000th .png file\n",
      "\t            Found 115000th .png file\n",
      "\t            Found 116000th .png file\n",
      "\t            Found 117000th .png file\n",
      "\t            Found 118000th .png file\n",
      "\t            Found 119000th .png file\n",
      "\t            Found 120000th .png file\n",
      "\t            Found 121000th .png file\n",
      "\t            Found 122000th .png file\n",
      "\t            Found 123000th .png file\n",
      "\t            Found 124000th .png file\n",
      "\t            Found 125000th .png file\n",
      "\t            Found 126000th .png file\n",
      "\t            Found 127000th .png file\n",
      "\t            Found 128000th .png file\n",
      "\t            Found 129000th .png file\n",
      "\t            Found 130000th .png file\n",
      "\t            Found 131000th .png file\n",
      "\t            Found 132000th .png file\n",
      "\t            Found 133000th .png file\n",
      "\t            Found 134000th .png file\n",
      "\t            Found 135000th .png file\n",
      "\t            Found 136000th .png file\n",
      "\t            Found 137000th .png file\n",
      "\t            Found 138000th .png file\n",
      "\t            Found 139000th .png file\n",
      "\t            Found 140000th .png file\n",
      "\t            Found 141000th .png file\n",
      "\t            Found 142000th .png file\n",
      "\t            Found 143000th .png file\n",
      "\t            Found 144000th .png file\n",
      "\t            Found 145000th .png file\n",
      "\t            Found 146000th .png file\n",
      "\t            Found 147000th .png file\n",
      "\t            Found 148000th .png file\n",
      "\t            Found 149000th .png file\n",
      "\t            Found 150000th .png file\n",
      "\t            Found 151000th .png file\n",
      "\t            Found 152000th .png file\n",
      "\t            Found 153000th .png file\n",
      "\t            Found 154000th .png file\n",
      "\t            Found 155000th .png file\n",
      "\t            Found 156000th .png file\n",
      "\t            Found 157000th .png file\n",
      "\t            Found 158000th .png file\n",
      "\tFound:\t\t158538\n",
      "\tCreated:\t0\n",
      "End: 2018-08-01 02:28:43.217543\n",
      "Finished in 00:00:00:04.0889\n",
      "##########################################\n",
      "                TEST DATA                 \n",
      "##########################################\n",
      "                                                     Path\n",
      "count                                              158538\n",
      "unique                                             158538\n",
      "top     /home/wesleytocs/Speech/mfcc_noisy/test/clip_6...\n",
      "freq                                                    1\n",
      "                                                     Path\n",
      "17977   /home/wesleytocs/Speech/mfcc_noisy/test/clip_d...\n",
      "22394   /home/wesleytocs/Speech/mfcc_noisy/test/clip_1...\n",
      "19955   /home/wesleytocs/Speech/mfcc_noisy/test/clip_7...\n",
      "67984   /home/wesleytocs/Speech/mfcc_noisy/test/clip_a...\n",
      "104963  /home/wesleytocs/Speech/mfcc_noisy/test/clip_1...\n",
      "116791  /home/wesleytocs/Speech/mfcc_noisy/test/clip_b...\n",
      "82010   /home/wesleytocs/Speech/mfcc_noisy/test/clip_3...\n",
      "36029   /home/wesleytocs/Speech/mfcc_noisy/test/clip_a...\n",
      "17948   /home/wesleytocs/Speech/mfcc_noisy/test/clip_9...\n",
      "152982  /home/wesleytocs/Speech/mfcc_noisy/test/clip_0...\n"
     ]
    }
   ],
   "source": [
    "print_and_log_header(\"MAKING TEST DATA\")\n",
    "test_data = timer(make_images_from_wav, test_audio_path, test_image_path, False, False)\n",
    "test_data = test_data.reindex(np.random.permutation(test_data.index))\n",
    "if VERBOSE:\n",
    "    print_and_log_header(\"TEST DATA\")\n",
    "    print_and_log(test_data.describe())\n",
    "    print_and_log(test_data.head(10))"
   ]
  },
  {
   "cell_type": "code",
   "execution_count": 12,
   "metadata": {},
   "outputs": [
    {
     "name": "stdout",
     "output_type": "stream",
     "text": [
      "##########################################\n",
      "                   IDS                    \n",
      "##########################################\n",
      "count                 158538\n",
      "unique                158538\n",
      "top       clip_43c1a30f2.wav\n",
      "freq                       1\n",
      "dtype: object\n",
      "0    clip_dc31ab241.wav\n",
      "1    clip_190c188d3.wav\n",
      "2    clip_7d21a7eaf.wav\n",
      "3    clip_a7606f921.wav\n",
      "4    clip_1b541601f.wav\n",
      "5    clip_b623c9eb3.wav\n",
      "6    clip_3202cda66.wav\n",
      "7    clip_ab543fc6a.wav\n",
      "8    clip_980d9783e.wav\n",
      "9    clip_06e93905a.wav\n",
      "dtype: object\n"
     ]
    }
   ],
   "source": [
    "ids = pd.Series([os.path.basename(x)[:-4]+\".wav\" for x in test_data[\"Path\"]]) # store the wav filenames for output\n",
    "if VERBOSE:\n",
    "    print_and_log_header(\"IDS\")\n",
    "    print_and_log(ids.describe())\n",
    "    print_and_log(ids.head(10))"
   ]
  },
  {
   "cell_type": "code",
   "execution_count": 13,
   "metadata": {
    "collapsed": true
   },
   "outputs": [],
   "source": [
    "# 80/20 training/validation split\n",
    "t_size = int(0.8 * train_data.shape[0])\n",
    "validation_data = train_data[t_size:]\n",
    "train_data = train_data[:t_size]\n",
    "test_labels = pd.Series([labels[\"yes\"] for _ in range(test_data.shape[0])], dtype=np.int32)"
   ]
  },
  {
   "cell_type": "code",
   "execution_count": 14,
   "metadata": {},
   "outputs": [
    {
     "name": "stdout",
     "output_type": "stream",
     "text": [
      "##########################################\n",
      "           FILTERING OUT LABELS           \n",
      "##########################################\n",
      "Dropping 100.00% of label 11 - unknown from training data\n",
      "Dropping 100.00% of label 11 - unknown from validation data\n"
     ]
    }
   ],
   "source": [
    "# filter out non-allowed labels\n",
    "print_and_log_header(\"FILTERING OUT LABELS\")\n",
    "\n",
    "train_data.drop(train_data[train_data[target_label] == labels[\"unknown\"]].sample(frac=UNK_DROP_RATE).index, inplace=True)\n",
    "print_and_log(\"Dropping {:.2f}% of label {:02} - unknown from training data\".format(UNK_DROP_RATE * 100, labels[\"unknown\"]))\n",
    "validation_data.drop(validation_data[validation_data[target_label] == labels[\"unknown\"]].sample(frac=UNK_DROP_RATE).index, inplace=True)\n",
    "print_and_log(\"Dropping {:.2f}% of label {:02} - unknown from validation data\".format(UNK_DROP_RATE * 100, labels[\"unknown\"]))"
   ]
  },
  {
   "cell_type": "code",
   "execution_count": 15,
   "metadata": {},
   "outputs": [
    {
     "data": {
      "image/png": "[encoded data removed]",
      "text/plain": [
       "<matplotlib.figure.Figure at 0x7f12ec0fdd68>"
      ]
     },
     "metadata": {},
     "output_type": "display_data"
    },
    {
     "data": {
      "image/png": "[encoded data removed]",
      "text/plain": [
       "<matplotlib.figure.Figure at 0x7f12ebec6e10>"
      ]
     },
     "metadata": {},
     "output_type": "display_data"
    }
   ],
   "source": [
    "if DISPLAY:\n",
    "    ax = sns.countplot(x=target_label, data=train_data)\n",
    "    ax.set_title(\"Training Label Counts\")\n",
    "    ax.get_figure().savefig(paths[\"Logs\"] + \"training_target_counts.jpg\")\n",
    "    plt.show()\n",
    "if DISPLAY:\n",
    "    ax = sns.countplot(x=target_label, data=validation_data)\n",
    "    ax.set_title(\"Validation Label Counts\")\n",
    "    ax.get_figure().savefig(paths[\"Logs\"] + \"validation_target_counts.jpg\")\n",
    "    plt.show()"
   ]
  },
  {
   "cell_type": "code",
   "execution_count": 16,
   "metadata": {
    "collapsed": true
   },
   "outputs": [],
   "source": [
    "# Separate Labels\n",
    "train_labels = train_data.pop(target_label)\n",
    "validation_labels = validation_data.pop(target_label)\n",
    "train_data = train_data[\"Path\"]\n",
    "validation_data = validation_data[\"Path\"]\n",
    "test_data = test_data[\"Path\"]"
   ]
  },
  {
   "cell_type": "code",
   "execution_count": 17,
   "metadata": {},
   "outputs": [
    {
     "name": "stdout",
     "output_type": "stream",
     "text": [
      "##########################################\n",
      "                 TRAINING                 \n",
      "##########################################\n",
      "(41114,)\n",
      "<class 'pandas.core.series.Series'>\n",
      "(41114,)\n",
      "<class 'pandas.core.series.Series'>\n",
      "##########################################\n",
      "                VALIDATION                \n",
      "##########################################\n",
      "(10242,)\n",
      "<class 'pandas.core.series.Series'>\n",
      "(10242,)\n",
      "<class 'pandas.core.series.Series'>\n",
      "##########################################\n",
      "                 TESTING                  \n",
      "##########################################\n",
      "(158538,)\n",
      "<class 'pandas.core.series.Series'>\n",
      "(158538,)\n",
      "<class 'pandas.core.series.Series'>\n",
      "{0}\n"
     ]
    }
   ],
   "source": [
    "# Sanity check on data\n",
    "print_and_log_header(\"TRAINING\")\n",
    "print_and_log(train_data.shape)\n",
    "print_and_log(type(train_data))\n",
    "print_and_log(train_labels.shape)\n",
    "print_and_log(type(train_labels))\n",
    "print_and_log_header(\"VALIDATION\")\n",
    "print_and_log(validation_data.shape)\n",
    "print_and_log(type(validation_data))\n",
    "print_and_log(validation_labels.shape)\n",
    "print_and_log(type(validation_labels))\n",
    "print_and_log_header(\"TESTING\")\n",
    "print_and_log(test_data.shape)\n",
    "print_and_log(type(test_data))\n",
    "print_and_log(test_labels.shape)\n",
    "print_and_log(type(test_labels))\n",
    "print_and_log(set(test_labels))"
   ]
  },
  {
   "cell_type": "code",
   "execution_count": 18,
   "metadata": {
    "collapsed": true
   },
   "outputs": [],
   "source": [
    "# Grab subset of the data for testing purposes\n",
    "if TEST:\n",
    "    train_data = train_data[:TEST_SIZE]\n",
    "    train_labels = train_labels[:TEST_SIZE]\n",
    "    validation_data = validation_data[:TEST_SIZE]\n",
    "    validation_labels = validation_labels[:TEST_SIZE]\n",
    "    test_data = test_data[:TEST_SIZE]\n",
    "    test_labels = test_labels[:TEST_SIZE]\n",
    "    ids = ids[:TEST_SIZE]"
   ]
  },
  {
   "cell_type": "code",
   "execution_count": 19,
   "metadata": {},
   "outputs": [
    {
     "name": "stdout",
     "output_type": "stream",
     "text": [
      "##########################################\n",
      "          Parsing Training Data           \n",
      "##########################################\n",
      "Start: 2018-08-01 02:28:47.884741\n",
      "End: 2018-08-01 02:28:48.046843\n",
      "Finished in 00:00:00:00.162\n",
      "##########################################\n",
      "         Parsing Validation Data          \n",
      "##########################################\n",
      "Start: 2018-08-01 02:28:48.049643\n",
      "End: 2018-08-01 02:28:48.184244\n",
      "Finished in 00:00:00:00.134\n",
      "##########################################\n",
      "           Parsing Testing Data           \n",
      "##########################################\n",
      "Start: 2018-08-01 02:28:48.186230\n",
      "End: 2018-08-01 02:28:48.308463\n",
      "Finished in 00:00:00:00.122\n",
      "\n",
      "Done!\n"
     ]
    }
   ],
   "source": [
    "# Vectors of filenames.\n",
    "train_filenames = tf.constant(train_data)\n",
    "validation_filenames = tf.constant(validation_data)\n",
    "test_filenames = tf.constant(test_data)\n",
    "\n",
    "# `labels[i]` is the label for the image in `filenames[i]\n",
    "# Vectors of labels\n",
    "train_labels = tf.constant(train_labels)\n",
    "validation_labels = tf.constant(validation_labels)\n",
    "test_labels = tf.constant(test_labels)\n",
    "\n",
    "# Make datasets from filenames and labels\n",
    "train_data = tf.data.Dataset.from_tensor_slices((train_filenames, train_labels))\n",
    "validation_data = tf.data.Dataset.from_tensor_slices((validation_filenames, validation_labels))\n",
    "test_data = tf.data.Dataset.from_tensor_slices((test_filenames, test_labels))\n",
    "print_and_log_header(\"Parsing Training Data\")\n",
    "train_data = timer(lambda: train_data.map(_parse_function))\n",
    "print_and_log_header(\"Parsing Validation Data\")\n",
    "validation_data = timer(lambda: validation_data.map(_parse_function))\n",
    "print_and_log_header(\"Parsing Testing Data\")\n",
    "test_data = timer(lambda: test_data.map(_parse_function))\n",
    "print_and_log(\"\\nDone!\")"
   ]
  },
  {
   "cell_type": "code",
   "execution_count": 20,
   "metadata": {},
   "outputs": [
    {
     "name": "stdout",
     "output_type": "stream",
     "text": [
      "##########################################\n",
      "                 TRAINING                 \n",
      "##########################################\n",
      "<MapDataset shapes: ((1, 28, 28, 1), ()), types: (tf.float32, tf.int64)>\n",
      "<class 'tensorflow.python.data.ops.dataset_ops.MapDataset'>\n",
      "##########################################\n",
      "                VALIDATION                \n",
      "##########################################\n",
      "<MapDataset shapes: ((1, 28, 28, 1), ()), types: (tf.float32, tf.int64)>\n",
      "<class 'tensorflow.python.data.ops.dataset_ops.MapDataset'>\n",
      "##########################################\n",
      "                 TESTING                  \n",
      "##########################################\n",
      "<MapDataset shapes: ((1, 28, 28, 1), ()), types: (tf.float32, tf.int32)>\n",
      "<class 'tensorflow.python.data.ops.dataset_ops.MapDataset'>\n"
     ]
    }
   ],
   "source": [
    "print_and_log_header(\"TRAINING\")\n",
    "print_and_log(train_data)\n",
    "print_and_log(type(train_data))\n",
    "print_and_log_header(\"VALIDATION\")\n",
    "print_and_log(validation_data)\n",
    "print_and_log(type(validation_data))\n",
    "print_and_log_header(\"TESTING\")\n",
    "print_and_log(test_data)\n",
    "print_and_log(type(test_data))"
   ]
  },
  {
   "cell_type": "code",
   "execution_count": 21,
   "metadata": {
    "collapsed": true
   },
   "outputs": [],
   "source": [
    "# Create the Estimator\n",
    "if TPU:\n",
    "    classifier = tf.contrib.tpu.TPUEstimator(\n",
    "        model_fn=model_fn,\n",
    "        model_dir=paths[\"Model\"],\n",
    "        config=tf.contrib.tpu.RunConfig(),\n",
    "        use_tpu=TPU)\n",
    "else:\n",
    "    classifier = tf.estimator.Estimator(model_fn=model_fn, model_dir=paths[\"Model\"])"
   ]
  },
  {
   "cell_type": "code",
   "execution_count": 22,
   "metadata": {
    "collapsed": true
   },
   "outputs": [],
   "source": [
    "# Create the input functions.\n",
    "training_eval_input_fn = create_predict_input_fn(train_data, DEFAULT_BS)\n",
    "validation_eval_input_fn = create_predict_input_fn(validation_data, DEFAULT_BS)\n",
    "train_input_fn = create_training_input_fn(train_data, BATCH_SIZE)"
   ]
  },
  {
   "cell_type": "code",
   "execution_count": 23,
   "metadata": {},
   "outputs": [
    {
     "name": "stdout",
     "output_type": "stream",
     "text": [
      "Start: 2018-08-01 02:28:48.399592\n",
      "Training model...\n",
      "Metrics:\n",
      "\tPERIOD\tRATE\tTYPE\tTRAIN.\tVALID.\tTIME\n",
      "\t0\t0.03750\tLgLs\t1.52\t1.53\t2018-08-01 02:39:33.685904\n",
      "\t\t\tAcc.\t49.21%\t48.88%\n",
      "\n",
      "\t1\t0.03375\tLgLs\t1.10\t1.11\t2018-08-01 02:50:19.042204\n",
      "\t\t\tAcc.\t63.86%\t63.23%\n",
      "\n",
      "\t2\t0.03037\tLgLs\t0.94\t0.96\t2018-08-01 03:00:31.012447\n",
      "\t\t\tAcc.\t69.44%\t68.53%\n",
      "\n",
      "\t3\t0.02734\tLgLs\t0.87\t0.90\t2018-08-01 03:10:04.677041\n",
      "\t\t\tAcc.\t71.32%\t70.02%\n",
      "\n",
      "\t4\t0.02460\tLgLs\t0.81\t0.86\t2018-08-01 03:20:45.252889\n",
      "\t\t\tAcc.\t73.40%\t71.64%\n",
      "\n",
      "\t5\t0.02214\tLgLs\t0.76\t0.81\t2018-08-01 03:31:32.567592\n",
      "\t\t\tAcc.\t74.84%\t72.72%\n",
      "\n",
      "\t6\t0.01993\tLgLs\t0.72\t0.80\t2018-08-01 03:42:20.968466\n",
      "\t\t\tAcc.\t76.47%\t73.68%\n",
      "\n",
      "\t7\t0.01794\tLgLs\t0.71\t0.79\t2018-08-01 03:53:11.838675\n",
      "\t\t\tAcc.\t76.64%\t73.89%\n",
      "\n",
      "\t8\t0.01614\tLgLs\t0.66\t0.76\t2018-08-01 04:03:53.254675\n",
      "\t\t\tAcc.\t78.60%\t74.87%\n",
      "\n",
      "\t9\t0.01453\tLgLs\t0.64\t0.75\t2018-08-01 04:14:50.267331\n",
      "\t\t\tAcc.\t79.19%\t75.14%\n",
      "\n",
      "\t10\t0.01308\tLgLs\t0.61\t0.74\t2018-08-01 04:25:47.963559\n",
      "\t\t\tAcc.\t80.13%\t75.57%\n",
      "\n",
      "\t11\t0.01177\tLgLs\t0.60\t0.74\t2018-08-01 04:36:15.689255\n",
      "\t\t\tAcc.\t80.46%\t75.77%\n",
      "\n",
      "\t12\t0.01059\tLgLs\t0.57\t0.74\t2018-08-01 04:46:50.204662\n",
      "\t\t\tAcc.\t80.97%\t75.85%\n",
      "\n",
      "\t13\t0.00953\tLgLs\t0.54\t0.73\t2018-08-01 04:57:33.157192\n",
      "\t\t\tAcc.\t82.25%\t75.90%\n",
      "\n",
      "\t14\t0.00858\tLgLs\t0.53\t0.74\t2018-08-01 05:08:17.693204\n",
      "\t\t\tAcc.\t82.75%\t75.59%\n",
      "\n",
      "\t15\t0.00772\tLgLs\t0.49\t0.72\t2018-08-01 05:19:05.956597\n",
      "\t\t\tAcc.\t84.01%\t76.57%\n",
      "\n",
      "\t16\t0.00695\tLgLs\t0.47\t0.72\t2018-08-01 05:30:00.566804\n",
      "\t\t\tAcc.\t84.75%\t76.39%\n",
      "\n",
      "\t17\t0.00625\tLgLs\t0.45\t0.72\t2018-08-01 05:41:05.046565\n",
      "\t\t\tAcc.\t85.80%\t76.79%\n",
      "\n",
      "\t18\t0.00563\tLgLs\t0.43\t0.73\t2018-08-01 05:52:05.296683\n",
      "\t\t\tAcc.\t85.99%\t77.04%\n",
      "\n",
      "\t19\t0.00507\tLgLs\t0.41\t0.73\t2018-08-01 06:03:01.061038\n",
      "\t\t\tAcc.\t86.82%\t76.43%\n",
      "\n",
      "\t20\t0.00456\tLgLs\t0.39\t0.74\t2018-08-01 06:13:53.388656\n",
      "\t\t\tAcc.\t87.72%\t76.90%\n",
      "\n",
      "\t21\t0.00410\tLgLs\t0.38\t0.76\t2018-08-01 06:24:41.780831\n",
      "\t\t\tAcc.\t87.87%\t76.68%\n",
      "\n",
      "\t22\t0.00369\tLgLs\t0.36\t0.76\t2018-08-01 06:35:38.073202\n",
      "\t\t\tAcc.\t88.61%\t76.78%\n",
      "\n",
      "\t23\t0.00332\tLgLs\t0.34\t0.77\t2018-08-01 06:46:28.240664\n",
      "\t\t\tAcc.\t89.30%\t76.86%\n",
      "\n",
      "\t24\t0.00299\tLgLs\t0.31\t0.78\t2018-08-01 06:57:04.185995\n",
      "\t\t\tAcc.\t90.14%\t76.65%\n",
      "\n",
      "End: 2018-08-01 06:57:04.186953\n",
      "Finished in 00:04:28:15.782\n"
     ]
    }
   ],
   "source": [
    "# Train\n",
    "classifier, accuracy, t_lls, v_lls, t_accs, v_accs = timer(train)"
   ]
  },
  {
   "cell_type": "code",
   "execution_count": 24,
   "metadata": {},
   "outputs": [
    {
     "name": "stdout",
     "output_type": "stream",
     "text": [
      "Final accuracy (on validation data): 76.6550%\n"
     ]
    },
    {
     "data": {
      "image/png": "[encoded data removed]",
      "text/plain": [
       "<matplotlib.figure.Figure at 0x7f12ea03ae80>"
      ]
     },
     "metadata": {},
     "output_type": "display_data"
    },
    {
     "data": {
      "image/png": "[encoded data removed]",
      "text/plain": [
       "<matplotlib.figure.Figure at 0x7f12ebc0be10>"
      ]
     },
     "metadata": {},
     "output_type": "display_data"
    },
    {
     "data": {
      "text/plain": [
       "<matplotlib.figure.Figure at 0x7f12e9f81b00>"
      ]
     },
     "metadata": {},
     "output_type": "display_data"
    }
   ],
   "source": [
    "print_and_log(\"Final accuracy (on validation data): {:.4f}%\".format(accuracy))\n",
    "\n",
    "# Output a graph of loss metrics over periods.\n",
    "if DISPLAY:\n",
    "    plt.ylabel(\"LogLoss\")\n",
    "    plt.xlabel(\"Periods\")\n",
    "    plt.title(\"LogLoss vs. Periods\")\n",
    "    plt.plot(t_lls, label=\"training\")\n",
    "    plt.plot(v_lls, label=\"validation\")\n",
    "    plt.legend()\n",
    "    plt.show()\n",
    "    plt.savefig(paths[\"Logs\"] + \"loss.jpg\")\n",
    "\n",
    "# Output a graph of accuracy over periods.\n",
    "if DISPLAY:\n",
    "    plt.ylabel(\"Accuracy\")\n",
    "    plt.xlabel(\"Periods\")\n",
    "    plt.title(\"Accuracy vs. Periods\")\n",
    "    plt.plot(t_accs, label=\"training\")\n",
    "    plt.plot(v_accs, label=\"validation\")\n",
    "    plt.legend()\n",
    "    plt.show()\n",
    "    plt.savefig(paths[\"Logs\"] + \"accuracy.jpg\")"
   ]
  },
  {
   "cell_type": "code",
   "execution_count": 25,
   "metadata": {},
   "outputs": [
    {
     "name": "stdout",
     "output_type": "stream",
     "text": [
      "Start: 2018-08-01 06:57:04.908662\n",
      "End: 2018-08-01 07:04:02.140352\n",
      "Finished in 00:00:06:57.231\n"
     ]
    }
   ],
   "source": [
    "# Make Predictions\n",
    "test_input_fn = create_predict_input_fn(test_data, DEFAULT_BS)\n",
    "f = lambda: np.array([item for item in classifier.predict(input_fn=test_input_fn)])\n",
    "predictions = timer(f)\n",
    "classes = [x[\"classes\"] for x in predictions]\n",
    "prob = [x[\"probabilities\"] for x in predictions]\n",
    "df = pd.DataFrame({\"classes\":classes, \"probabilities\":prob})\n",
    "df[\"probabilities\"] = df[\"probabilities\"].apply(lambda x: max(x))\n",
    "predictions = {}\n",
    "for i in range(10, 75, 5):\n",
    "    threshold = i * 0.1 / num_labels\n",
    "    df_copy = pd.DataFrame(df)\n",
    "    df_copy.loc[df_copy['probabilities'] < threshold, 'classes'] = labels[\"unknown\"]\n",
    "    pred = df_copy[\"classes\"]\n",
    "    pred = [reverse_lookup[x] for x in pred]\n",
    "    predictions[threshold] = pred"
   ]
  },
  {
   "cell_type": "code",
   "execution_count": 26,
   "metadata": {
    "collapsed": true
   },
   "outputs": [],
   "source": [
    "# Make the output Dataframes\n",
    "outputs = {}\n",
    "for key in predictions:\n",
    "    outputs[key] = pd.DataFrame({id_label:ids, target_label:predictions[key]})"
   ]
  },
  {
   "cell_type": "code",
   "execution_count": 27,
   "metadata": {},
   "outputs": [
    {
     "data": {
      "image/png": "[encoded data removed]",
      "text/plain": [
       "<matplotlib.figure.Figure at 0x7f12ebd63e80>"
      ]
     },
     "metadata": {},
     "output_type": "display_data"
    },
    {
     "data": {
      "image/png": "[encoded data removed]",
      "text/plain": [
       "<matplotlib.figure.Figure at 0x7f12ea303080>"
      ]
     },
     "metadata": {},
     "output_type": "display_data"
    },
    {
     "data": {
      "image/png": "[encoded data removed]",
      "text/plain": [
       "<matplotlib.figure.Figure at 0x7f12ea47fa90>"
      ]
     },
     "metadata": {},
     "output_type": "display_data"
    },
    {
     "data": {
      "image/png": "[encoded data removed]",
      "text/plain": [
       "<matplotlib.figure.Figure at 0x7f12ea173940>"
      ]
     },
     "metadata": {},
     "output_type": "display_data"
    },
    {
     "data": {
      "image/png": "[encoded data removed]",
      "text/plain": [
       "<matplotlib.figure.Figure at 0x7f12ea271668>"
      ]
     },
     "metadata": {},
     "output_type": "display_data"
    },
    {
     "data": {
      "image/png": "[encoded data removed]",
      "text/plain": [
       "<matplotlib.figure.Figure at 0x7f12ea427ba8>"
      ]
     },
     "metadata": {},
     "output_type": "display_data"
    },
    {
     "data": {
      "image/png": "[encoded data removed]",
      "text/plain": [
       "<matplotlib.figure.Figure at 0x7f12ea6165f8>"
      ]
     },
     "metadata": {},
     "output_type": "display_data"
    },
    {
     "data": {
      "image/png": "[encoded data removed]",
      "text/plain": [
       "<matplotlib.figure.Figure at 0x7f12e575b2e8>"
      ]
     },
     "metadata": {},
     "output_type": "display_data"
    },
    {
     "data": {
      "image/png": "[encoded data removed]",
      "text/plain": [
       "<matplotlib.figure.Figure at 0x7f12ebccd668>"
      ]
     },
     "metadata": {},
     "output_type": "display_data"
    },
    {
     "data": {
      "image/png": "[encoded data removed]",
      "text/plain": [
       "<matplotlib.figure.Figure at 0x7f12ea1b6710>"
      ]
     },
     "metadata": {},
     "output_type": "display_data"
    },
    {
     "data": {
      "image/png": "[encoded data removed]",
      "text/plain": [
       "<matplotlib.figure.Figure at 0x7f12ea11a240>"
      ]
     },
     "metadata": {},
     "output_type": "display_data"
    },
    {
     "data": {
      "image/png": "[encoded data removed]",
      "text/plain": [
       "<matplotlib.figure.Figure at 0x7f12ebfa0710>"
      ]
     },
     "metadata": {},
     "output_type": "display_data"
    },
    {
     "data": {
      "image/png": "[encoded data removed]",
      "text/plain": [
       "<matplotlib.figure.Figure at 0x7f12eb870470>"
      ]
     },
     "metadata": {},
     "output_type": "display_data"
    }
   ],
   "source": [
    "if DISPLAY:\n",
    "    for key in sorted(outputs.keys()):\n",
    "        ax = sns.countplot(x=target_label, data=outputs[key])\n",
    "        ax.set_title(\"Label Counts For Output - {}\".format(key))\n",
    "        ax.get_figure().savefig(paths[\"Logs\"] + \"output_counts_{}.jpg\".format(key))\n",
    "        plt.show()"
   ]
  },
  {
   "cell_type": "code",
   "execution_count": 28,
   "metadata": {},
   "outputs": [
    {
     "name": "stdout",
     "output_type": "stream",
     "text": [
      "Filename: 'A76.6550_TypeCNN_UDR1.0_THRESH0.091_DROP0.4_LR0.0375_S20000_B64_MFCC_28x28_Combined_3.csv'\n",
      "\tSaved!\n",
      "Filename: 'A76.6550_TypeCNN_UDR1.0_THRESH0.136_DROP0.4_LR0.0375_S20000_B64_MFCC_28x28_Combined_3.csv'\n",
      "\tSaved!\n",
      "Filename: 'A76.6550_TypeCNN_UDR1.0_THRESH0.182_DROP0.4_LR0.0375_S20000_B64_MFCC_28x28_Combined_3.csv'\n",
      "\tSaved!\n",
      "Filename: 'A76.6550_TypeCNN_UDR1.0_THRESH0.227_DROP0.4_LR0.0375_S20000_B64_MFCC_28x28_Combined_3.csv'\n",
      "\tSaved!\n",
      "Filename: 'A76.6550_TypeCNN_UDR1.0_THRESH0.273_DROP0.4_LR0.0375_S20000_B64_MFCC_28x28_Combined_3.csv'\n",
      "\tSaved!\n",
      "Filename: 'A76.6550_TypeCNN_UDR1.0_THRESH0.318_DROP0.4_LR0.0375_S20000_B64_MFCC_28x28_Combined_3.csv'\n",
      "\tSaved!\n",
      "Filename: 'A76.6550_TypeCNN_UDR1.0_THRESH0.364_DROP0.4_LR0.0375_S20000_B64_MFCC_28x28_Combined_3.csv'\n",
      "\tSaved!\n",
      "Filename: 'A76.6550_TypeCNN_UDR1.0_THRESH0.409_DROP0.4_LR0.0375_S20000_B64_MFCC_28x28_Combined_3.csv'\n",
      "\tSaved!\n",
      "Filename: 'A76.6550_TypeCNN_UDR1.0_THRESH0.455_DROP0.4_LR0.0375_S20000_B64_MFCC_28x28_Combined_3.csv'\n",
      "\tSaved!\n",
      "Filename: 'A76.6550_TypeCNN_UDR1.0_THRESH0.500_DROP0.4_LR0.0375_S20000_B64_MFCC_28x28_Combined_3.csv'\n",
      "\tSaved!\n",
      "Filename: 'A76.6550_TypeCNN_UDR1.0_THRESH0.545_DROP0.4_LR0.0375_S20000_B64_MFCC_28x28_Combined_3.csv'\n",
      "\tSaved!\n",
      "Filename: 'A76.6550_TypeCNN_UDR1.0_THRESH0.591_DROP0.4_LR0.0375_S20000_B64_MFCC_28x28_Combined_3.csv'\n",
      "\tSaved!\n",
      "Filename: 'A76.6550_TypeCNN_UDR1.0_THRESH0.636_DROP0.4_LR0.0375_S20000_B64_MFCC_28x28_Combined_3.csv'\n",
      "\tSaved!\n"
     ]
    }
   ],
   "source": [
    "for key in sorted(outputs.keys()):\n",
    "    output = outputs[key]\n",
    "    name = OUTSTR.format(accuracy, TYPE, UNK_DROP_RATE, key, DROPOUT, LEARNING_RATE, LEARNING_STEPS, BATCH_SIZE,\"_\" + NOTES if NOTES else \"\")\n",
    "    print_and_log(\"Filename: '{}'\".format(name))\n",
    "    if not TEST:\n",
    "        output.to_csv(name, index=False)\n",
    "        print_and_log(\"\\tSaved!\")"
   ]
  }
 ],
 "metadata": {
  "kernelspec": {
   "display_name": "Python 3",
   "language": "python",
   "name": "python3"
  },
  "language_info": {
   "codemirror_mode": {
    "name": "ipython",
    "version": 3
   },
   "file_extension": ".py",
   "mimetype": "text/x-python",
   "name": "python",
   "nbconvert_exporter": "python",
   "pygments_lexer": "ipython3",
   "version": "3.5.4"
  }
 },
 "nbformat": 4,
 "nbformat_minor": 2
}
